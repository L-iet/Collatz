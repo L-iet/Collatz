{
 "cells": [
  {
   "cell_type": "code",
   "execution_count": 5,
   "metadata": {},
   "outputs": [
    {
     "data": {
      "application/javascript": [
       "IPython.notebook.get_cells().map( function(c){ return c.code_mirror.options.indentWithTabs = true;});\n",
       "\n",
       "CodeMirror.defaults.indentWithTabs = true;\n"
      ],
      "text/plain": [
       "<IPython.core.display.Javascript object>"
      ]
     },
     "metadata": {},
     "output_type": "display_data"
    }
   ],
   "source": [
    "%%javascript\n",
    "IPython.notebook.get_cells().map( function(c){ return c.code_mirror.options.indentWithTabs = true;});\n",
    "\n",
    "CodeMirror.defaults.indentWithTabs = true;\n"
   ]
  },
  {
   "cell_type": "code",
   "execution_count": 26,
   "metadata": {},
   "outputs": [],
   "source": [
    "import matplotlib.pyplot as plt\n",
    "import numpy as np\n",
    "import math"
   ]
  },
  {
   "cell_type": "code",
   "execution_count": 37,
   "metadata": {},
   "outputs": [],
   "source": [
    "import plotly.express as px"
   ]
  },
  {
   "cell_type": "code",
   "execution_count": 7,
   "metadata": {},
   "outputs": [],
   "source": [
    "evens = np.array(list(range(0,50,2)))\n",
    "e_out = evens / 2\n",
    "odds = np.array(list(range(1,50,2)))\n",
    "o_out = 3 * odds + 1"
   ]
  },
  {
   "cell_type": "code",
   "execution_count": 10,
   "metadata": {},
   "outputs": [],
   "source": [
    "%matplotlib notebook"
   ]
  },
  {
   "cell_type": "code",
   "execution_count": 18,
   "metadata": {},
   "outputs": [],
   "source": [
    "def collatz(val):\n",
    "\tif val%2 == 0: return val/2\n",
    "\telse: return 3*val + 1"
   ]
  },
  {
   "cell_type": "code",
   "execution_count": 32,
   "metadata": {},
   "outputs": [],
   "source": [
    "def plot_path(val):\n",
    "\tlog = math.log2(val)\n",
    "\tp = log if log == int(log) else None\n",
    "\tptsx = [val]; ptsy = [0]\n",
    "\twhile val != 1:\n",
    "\t\ti = ptsx[-1]\n",
    "\t\tptsx.append(i)\n",
    "\t\tval = collatz(i)\n",
    "\t\tif not p:\n",
    "\t\t\tcheck_pow = math.log2(val)\n",
    "\t\t\tif int(check_pow) == check_pow:\n",
    "\t\t\t\tp = check_pow\n",
    "\t\tptsy.append(val)#\n",
    "\t\tptsx.append(val); ptsy.append(val)\n",
    "\t#plt.plot(ptsx,ptsy)\n",
    "\treturn p"
   ]
  },
  {
   "cell_type": "code",
   "execution_count": null,
   "metadata": {},
   "outputs": [],
   "source": []
  },
  {
   "cell_type": "code",
   "execution_count": 24,
   "metadata": {},
   "outputs": [
    {
     "data": {
      "application/javascript": [
       "/* Put everything inside the global mpl namespace */\n",
       "window.mpl = {};\n",
       "\n",
       "\n",
       "mpl.get_websocket_type = function() {\n",
       "    if (typeof(WebSocket) !== 'undefined') {\n",
       "        return WebSocket;\n",
       "    } else if (typeof(MozWebSocket) !== 'undefined') {\n",
       "        return MozWebSocket;\n",
       "    } else {\n",
       "        alert('Your browser does not have WebSocket support. ' +\n",
       "              'Please try Chrome, Safari or Firefox ≥ 6. ' +\n",
       "              'Firefox 4 and 5 are also supported but you ' +\n",
       "              'have to enable WebSockets in about:config.');\n",
       "    };\n",
       "}\n",
       "\n",
       "mpl.figure = function(figure_id, websocket, ondownload, parent_element) {\n",
       "    this.id = figure_id;\n",
       "\n",
       "    this.ws = websocket;\n",
       "\n",
       "    this.supports_binary = (this.ws.binaryType != undefined);\n",
       "\n",
       "    if (!this.supports_binary) {\n",
       "        var warnings = document.getElementById(\"mpl-warnings\");\n",
       "        if (warnings) {\n",
       "            warnings.style.display = 'block';\n",
       "            warnings.textContent = (\n",
       "                \"This browser does not support binary websocket messages. \" +\n",
       "                    \"Performance may be slow.\");\n",
       "        }\n",
       "    }\n",
       "\n",
       "    this.imageObj = new Image();\n",
       "\n",
       "    this.context = undefined;\n",
       "    this.message = undefined;\n",
       "    this.canvas = undefined;\n",
       "    this.rubberband_canvas = undefined;\n",
       "    this.rubberband_context = undefined;\n",
       "    this.format_dropdown = undefined;\n",
       "\n",
       "    this.image_mode = 'full';\n",
       "\n",
       "    this.root = $('<div/>');\n",
       "    this._root_extra_style(this.root)\n",
       "    this.root.attr('style', 'display: inline-block');\n",
       "\n",
       "    $(parent_element).append(this.root);\n",
       "\n",
       "    this._init_header(this);\n",
       "    this._init_canvas(this);\n",
       "    this._init_toolbar(this);\n",
       "\n",
       "    var fig = this;\n",
       "\n",
       "    this.waiting = false;\n",
       "\n",
       "    this.ws.onopen =  function () {\n",
       "            fig.send_message(\"supports_binary\", {value: fig.supports_binary});\n",
       "            fig.send_message(\"send_image_mode\", {});\n",
       "            if (mpl.ratio != 1) {\n",
       "                fig.send_message(\"set_dpi_ratio\", {'dpi_ratio': mpl.ratio});\n",
       "            }\n",
       "            fig.send_message(\"refresh\", {});\n",
       "        }\n",
       "\n",
       "    this.imageObj.onload = function() {\n",
       "            if (fig.image_mode == 'full') {\n",
       "                // Full images could contain transparency (where diff images\n",
       "                // almost always do), so we need to clear the canvas so that\n",
       "                // there is no ghosting.\n",
       "                fig.context.clearRect(0, 0, fig.canvas.width, fig.canvas.height);\n",
       "            }\n",
       "            fig.context.drawImage(fig.imageObj, 0, 0);\n",
       "        };\n",
       "\n",
       "    this.imageObj.onunload = function() {\n",
       "        fig.ws.close();\n",
       "    }\n",
       "\n",
       "    this.ws.onmessage = this._make_on_message_function(this);\n",
       "\n",
       "    this.ondownload = ondownload;\n",
       "}\n",
       "\n",
       "mpl.figure.prototype._init_header = function() {\n",
       "    var titlebar = $(\n",
       "        '<div class=\"ui-dialog-titlebar ui-widget-header ui-corner-all ' +\n",
       "        'ui-helper-clearfix\"/>');\n",
       "    var titletext = $(\n",
       "        '<div class=\"ui-dialog-title\" style=\"width: 100%; ' +\n",
       "        'text-align: center; padding: 3px;\"/>');\n",
       "    titlebar.append(titletext)\n",
       "    this.root.append(titlebar);\n",
       "    this.header = titletext[0];\n",
       "}\n",
       "\n",
       "\n",
       "\n",
       "mpl.figure.prototype._canvas_extra_style = function(canvas_div) {\n",
       "\n",
       "}\n",
       "\n",
       "\n",
       "mpl.figure.prototype._root_extra_style = function(canvas_div) {\n",
       "\n",
       "}\n",
       "\n",
       "mpl.figure.prototype._init_canvas = function() {\n",
       "    var fig = this;\n",
       "\n",
       "    var canvas_div = $('<div/>');\n",
       "\n",
       "    canvas_div.attr('style', 'position: relative; clear: both; outline: 0');\n",
       "\n",
       "    function canvas_keyboard_event(event) {\n",
       "        return fig.key_event(event, event['data']);\n",
       "    }\n",
       "\n",
       "    canvas_div.keydown('key_press', canvas_keyboard_event);\n",
       "    canvas_div.keyup('key_release', canvas_keyboard_event);\n",
       "    this.canvas_div = canvas_div\n",
       "    this._canvas_extra_style(canvas_div)\n",
       "    this.root.append(canvas_div);\n",
       "\n",
       "    var canvas = $('<canvas/>');\n",
       "    canvas.addClass('mpl-canvas');\n",
       "    canvas.attr('style', \"left: 0; top: 0; z-index: 0; outline: 0\")\n",
       "\n",
       "    this.canvas = canvas[0];\n",
       "    this.context = canvas[0].getContext(\"2d\");\n",
       "\n",
       "    var backingStore = this.context.backingStorePixelRatio ||\n",
       "\tthis.context.webkitBackingStorePixelRatio ||\n",
       "\tthis.context.mozBackingStorePixelRatio ||\n",
       "\tthis.context.msBackingStorePixelRatio ||\n",
       "\tthis.context.oBackingStorePixelRatio ||\n",
       "\tthis.context.backingStorePixelRatio || 1;\n",
       "\n",
       "    mpl.ratio = (window.devicePixelRatio || 1) / backingStore;\n",
       "\n",
       "    var rubberband = $('<canvas/>');\n",
       "    rubberband.attr('style', \"position: absolute; left: 0; top: 0; z-index: 1;\")\n",
       "\n",
       "    var pass_mouse_events = true;\n",
       "\n",
       "    canvas_div.resizable({\n",
       "        start: function(event, ui) {\n",
       "            pass_mouse_events = false;\n",
       "        },\n",
       "        resize: function(event, ui) {\n",
       "            fig.request_resize(ui.size.width, ui.size.height);\n",
       "        },\n",
       "        stop: function(event, ui) {\n",
       "            pass_mouse_events = true;\n",
       "            fig.request_resize(ui.size.width, ui.size.height);\n",
       "        },\n",
       "    });\n",
       "\n",
       "    function mouse_event_fn(event) {\n",
       "        if (pass_mouse_events)\n",
       "            return fig.mouse_event(event, event['data']);\n",
       "    }\n",
       "\n",
       "    rubberband.mousedown('button_press', mouse_event_fn);\n",
       "    rubberband.mouseup('button_release', mouse_event_fn);\n",
       "    // Throttle sequential mouse events to 1 every 20ms.\n",
       "    rubberband.mousemove('motion_notify', mouse_event_fn);\n",
       "\n",
       "    rubberband.mouseenter('figure_enter', mouse_event_fn);\n",
       "    rubberband.mouseleave('figure_leave', mouse_event_fn);\n",
       "\n",
       "    canvas_div.on(\"wheel\", function (event) {\n",
       "        event = event.originalEvent;\n",
       "        event['data'] = 'scroll'\n",
       "        if (event.deltaY < 0) {\n",
       "            event.step = 1;\n",
       "        } else {\n",
       "            event.step = -1;\n",
       "        }\n",
       "        mouse_event_fn(event);\n",
       "    });\n",
       "\n",
       "    canvas_div.append(canvas);\n",
       "    canvas_div.append(rubberband);\n",
       "\n",
       "    this.rubberband = rubberband;\n",
       "    this.rubberband_canvas = rubberband[0];\n",
       "    this.rubberband_context = rubberband[0].getContext(\"2d\");\n",
       "    this.rubberband_context.strokeStyle = \"#000000\";\n",
       "\n",
       "    this._resize_canvas = function(width, height) {\n",
       "        // Keep the size of the canvas, canvas container, and rubber band\n",
       "        // canvas in synch.\n",
       "        canvas_div.css('width', width)\n",
       "        canvas_div.css('height', height)\n",
       "\n",
       "        canvas.attr('width', width * mpl.ratio);\n",
       "        canvas.attr('height', height * mpl.ratio);\n",
       "        canvas.attr('style', 'width: ' + width + 'px; height: ' + height + 'px;');\n",
       "\n",
       "        rubberband.attr('width', width);\n",
       "        rubberband.attr('height', height);\n",
       "    }\n",
       "\n",
       "    // Set the figure to an initial 600x600px, this will subsequently be updated\n",
       "    // upon first draw.\n",
       "    this._resize_canvas(600, 600);\n",
       "\n",
       "    // Disable right mouse context menu.\n",
       "    $(this.rubberband_canvas).bind(\"contextmenu\",function(e){\n",
       "        return false;\n",
       "    });\n",
       "\n",
       "    function set_focus () {\n",
       "        canvas.focus();\n",
       "        canvas_div.focus();\n",
       "    }\n",
       "\n",
       "    window.setTimeout(set_focus, 100);\n",
       "}\n",
       "\n",
       "mpl.figure.prototype._init_toolbar = function() {\n",
       "    var fig = this;\n",
       "\n",
       "    var nav_element = $('<div/>');\n",
       "    nav_element.attr('style', 'width: 100%');\n",
       "    this.root.append(nav_element);\n",
       "\n",
       "    // Define a callback function for later on.\n",
       "    function toolbar_event(event) {\n",
       "        return fig.toolbar_button_onclick(event['data']);\n",
       "    }\n",
       "    function toolbar_mouse_event(event) {\n",
       "        return fig.toolbar_button_onmouseover(event['data']);\n",
       "    }\n",
       "\n",
       "    for(var toolbar_ind in mpl.toolbar_items) {\n",
       "        var name = mpl.toolbar_items[toolbar_ind][0];\n",
       "        var tooltip = mpl.toolbar_items[toolbar_ind][1];\n",
       "        var image = mpl.toolbar_items[toolbar_ind][2];\n",
       "        var method_name = mpl.toolbar_items[toolbar_ind][3];\n",
       "\n",
       "        if (!name) {\n",
       "            // put a spacer in here.\n",
       "            continue;\n",
       "        }\n",
       "        var button = $('<button/>');\n",
       "        button.addClass('ui-button ui-widget ui-state-default ui-corner-all ' +\n",
       "                        'ui-button-icon-only');\n",
       "        button.attr('role', 'button');\n",
       "        button.attr('aria-disabled', 'false');\n",
       "        button.click(method_name, toolbar_event);\n",
       "        button.mouseover(tooltip, toolbar_mouse_event);\n",
       "\n",
       "        var icon_img = $('<span/>');\n",
       "        icon_img.addClass('ui-button-icon-primary ui-icon');\n",
       "        icon_img.addClass(image);\n",
       "        icon_img.addClass('ui-corner-all');\n",
       "\n",
       "        var tooltip_span = $('<span/>');\n",
       "        tooltip_span.addClass('ui-button-text');\n",
       "        tooltip_span.html(tooltip);\n",
       "\n",
       "        button.append(icon_img);\n",
       "        button.append(tooltip_span);\n",
       "\n",
       "        nav_element.append(button);\n",
       "    }\n",
       "\n",
       "    var fmt_picker_span = $('<span/>');\n",
       "\n",
       "    var fmt_picker = $('<select/>');\n",
       "    fmt_picker.addClass('mpl-toolbar-option ui-widget ui-widget-content');\n",
       "    fmt_picker_span.append(fmt_picker);\n",
       "    nav_element.append(fmt_picker_span);\n",
       "    this.format_dropdown = fmt_picker[0];\n",
       "\n",
       "    for (var ind in mpl.extensions) {\n",
       "        var fmt = mpl.extensions[ind];\n",
       "        var option = $(\n",
       "            '<option/>', {selected: fmt === mpl.default_extension}).html(fmt);\n",
       "        fmt_picker.append(option);\n",
       "    }\n",
       "\n",
       "    // Add hover states to the ui-buttons\n",
       "    $( \".ui-button\" ).hover(\n",
       "        function() { $(this).addClass(\"ui-state-hover\");},\n",
       "        function() { $(this).removeClass(\"ui-state-hover\");}\n",
       "    );\n",
       "\n",
       "    var status_bar = $('<span class=\"mpl-message\"/>');\n",
       "    nav_element.append(status_bar);\n",
       "    this.message = status_bar[0];\n",
       "}\n",
       "\n",
       "mpl.figure.prototype.request_resize = function(x_pixels, y_pixels) {\n",
       "    // Request matplotlib to resize the figure. Matplotlib will then trigger a resize in the client,\n",
       "    // which will in turn request a refresh of the image.\n",
       "    this.send_message('resize', {'width': x_pixels, 'height': y_pixels});\n",
       "}\n",
       "\n",
       "mpl.figure.prototype.send_message = function(type, properties) {\n",
       "    properties['type'] = type;\n",
       "    properties['figure_id'] = this.id;\n",
       "    this.ws.send(JSON.stringify(properties));\n",
       "}\n",
       "\n",
       "mpl.figure.prototype.send_draw_message = function() {\n",
       "    if (!this.waiting) {\n",
       "        this.waiting = true;\n",
       "        this.ws.send(JSON.stringify({type: \"draw\", figure_id: this.id}));\n",
       "    }\n",
       "}\n",
       "\n",
       "\n",
       "mpl.figure.prototype.handle_save = function(fig, msg) {\n",
       "    var format_dropdown = fig.format_dropdown;\n",
       "    var format = format_dropdown.options[format_dropdown.selectedIndex].value;\n",
       "    fig.ondownload(fig, format);\n",
       "}\n",
       "\n",
       "\n",
       "mpl.figure.prototype.handle_resize = function(fig, msg) {\n",
       "    var size = msg['size'];\n",
       "    if (size[0] != fig.canvas.width || size[1] != fig.canvas.height) {\n",
       "        fig._resize_canvas(size[0], size[1]);\n",
       "        fig.send_message(\"refresh\", {});\n",
       "    };\n",
       "}\n",
       "\n",
       "mpl.figure.prototype.handle_rubberband = function(fig, msg) {\n",
       "    var x0 = msg['x0'] / mpl.ratio;\n",
       "    var y0 = (fig.canvas.height - msg['y0']) / mpl.ratio;\n",
       "    var x1 = msg['x1'] / mpl.ratio;\n",
       "    var y1 = (fig.canvas.height - msg['y1']) / mpl.ratio;\n",
       "    x0 = Math.floor(x0) + 0.5;\n",
       "    y0 = Math.floor(y0) + 0.5;\n",
       "    x1 = Math.floor(x1) + 0.5;\n",
       "    y1 = Math.floor(y1) + 0.5;\n",
       "    var min_x = Math.min(x0, x1);\n",
       "    var min_y = Math.min(y0, y1);\n",
       "    var width = Math.abs(x1 - x0);\n",
       "    var height = Math.abs(y1 - y0);\n",
       "\n",
       "    fig.rubberband_context.clearRect(\n",
       "        0, 0, fig.canvas.width / mpl.ratio, fig.canvas.height / mpl.ratio);\n",
       "\n",
       "    fig.rubberband_context.strokeRect(min_x, min_y, width, height);\n",
       "}\n",
       "\n",
       "mpl.figure.prototype.handle_figure_label = function(fig, msg) {\n",
       "    // Updates the figure title.\n",
       "    fig.header.textContent = msg['label'];\n",
       "}\n",
       "\n",
       "mpl.figure.prototype.handle_cursor = function(fig, msg) {\n",
       "    var cursor = msg['cursor'];\n",
       "    switch(cursor)\n",
       "    {\n",
       "    case 0:\n",
       "        cursor = 'pointer';\n",
       "        break;\n",
       "    case 1:\n",
       "        cursor = 'default';\n",
       "        break;\n",
       "    case 2:\n",
       "        cursor = 'crosshair';\n",
       "        break;\n",
       "    case 3:\n",
       "        cursor = 'move';\n",
       "        break;\n",
       "    }\n",
       "    fig.rubberband_canvas.style.cursor = cursor;\n",
       "}\n",
       "\n",
       "mpl.figure.prototype.handle_message = function(fig, msg) {\n",
       "    fig.message.textContent = msg['message'];\n",
       "}\n",
       "\n",
       "mpl.figure.prototype.handle_draw = function(fig, msg) {\n",
       "    // Request the server to send over a new figure.\n",
       "    fig.send_draw_message();\n",
       "}\n",
       "\n",
       "mpl.figure.prototype.handle_image_mode = function(fig, msg) {\n",
       "    fig.image_mode = msg['mode'];\n",
       "}\n",
       "\n",
       "mpl.figure.prototype.updated_canvas_event = function() {\n",
       "    // Called whenever the canvas gets updated.\n",
       "    this.send_message(\"ack\", {});\n",
       "}\n",
       "\n",
       "// A function to construct a web socket function for onmessage handling.\n",
       "// Called in the figure constructor.\n",
       "mpl.figure.prototype._make_on_message_function = function(fig) {\n",
       "    return function socket_on_message(evt) {\n",
       "        if (evt.data instanceof Blob) {\n",
       "            /* FIXME: We get \"Resource interpreted as Image but\n",
       "             * transferred with MIME type text/plain:\" errors on\n",
       "             * Chrome.  But how to set the MIME type?  It doesn't seem\n",
       "             * to be part of the websocket stream */\n",
       "            evt.data.type = \"image/png\";\n",
       "\n",
       "            /* Free the memory for the previous frames */\n",
       "            if (fig.imageObj.src) {\n",
       "                (window.URL || window.webkitURL).revokeObjectURL(\n",
       "                    fig.imageObj.src);\n",
       "            }\n",
       "\n",
       "            fig.imageObj.src = (window.URL || window.webkitURL).createObjectURL(\n",
       "                evt.data);\n",
       "            fig.updated_canvas_event();\n",
       "            fig.waiting = false;\n",
       "            return;\n",
       "        }\n",
       "        else if (typeof evt.data === 'string' && evt.data.slice(0, 21) == \"data:image/png;base64\") {\n",
       "            fig.imageObj.src = evt.data;\n",
       "            fig.updated_canvas_event();\n",
       "            fig.waiting = false;\n",
       "            return;\n",
       "        }\n",
       "\n",
       "        var msg = JSON.parse(evt.data);\n",
       "        var msg_type = msg['type'];\n",
       "\n",
       "        // Call the  \"handle_{type}\" callback, which takes\n",
       "        // the figure and JSON message as its only arguments.\n",
       "        try {\n",
       "            var callback = fig[\"handle_\" + msg_type];\n",
       "        } catch (e) {\n",
       "            console.log(\"No handler for the '\" + msg_type + \"' message type: \", msg);\n",
       "            return;\n",
       "        }\n",
       "\n",
       "        if (callback) {\n",
       "            try {\n",
       "                // console.log(\"Handling '\" + msg_type + \"' message: \", msg);\n",
       "                callback(fig, msg);\n",
       "            } catch (e) {\n",
       "                console.log(\"Exception inside the 'handler_\" + msg_type + \"' callback:\", e, e.stack, msg);\n",
       "            }\n",
       "        }\n",
       "    };\n",
       "}\n",
       "\n",
       "// from http://stackoverflow.com/questions/1114465/getting-mouse-location-in-canvas\n",
       "mpl.findpos = function(e) {\n",
       "    //this section is from http://www.quirksmode.org/js/events_properties.html\n",
       "    var targ;\n",
       "    if (!e)\n",
       "        e = window.event;\n",
       "    if (e.target)\n",
       "        targ = e.target;\n",
       "    else if (e.srcElement)\n",
       "        targ = e.srcElement;\n",
       "    if (targ.nodeType == 3) // defeat Safari bug\n",
       "        targ = targ.parentNode;\n",
       "\n",
       "    // jQuery normalizes the pageX and pageY\n",
       "    // pageX,Y are the mouse positions relative to the document\n",
       "    // offset() returns the position of the element relative to the document\n",
       "    var x = e.pageX - $(targ).offset().left;\n",
       "    var y = e.pageY - $(targ).offset().top;\n",
       "\n",
       "    return {\"x\": x, \"y\": y};\n",
       "};\n",
       "\n",
       "/*\n",
       " * return a copy of an object with only non-object keys\n",
       " * we need this to avoid circular references\n",
       " * http://stackoverflow.com/a/24161582/3208463\n",
       " */\n",
       "function simpleKeys (original) {\n",
       "  return Object.keys(original).reduce(function (obj, key) {\n",
       "    if (typeof original[key] !== 'object')\n",
       "        obj[key] = original[key]\n",
       "    return obj;\n",
       "  }, {});\n",
       "}\n",
       "\n",
       "mpl.figure.prototype.mouse_event = function(event, name) {\n",
       "    var canvas_pos = mpl.findpos(event)\n",
       "\n",
       "    if (name === 'button_press')\n",
       "    {\n",
       "        this.canvas.focus();\n",
       "        this.canvas_div.focus();\n",
       "    }\n",
       "\n",
       "    var x = canvas_pos.x * mpl.ratio;\n",
       "    var y = canvas_pos.y * mpl.ratio;\n",
       "\n",
       "    this.send_message(name, {x: x, y: y, button: event.button,\n",
       "                             step: event.step,\n",
       "                             guiEvent: simpleKeys(event)});\n",
       "\n",
       "    /* This prevents the web browser from automatically changing to\n",
       "     * the text insertion cursor when the button is pressed.  We want\n",
       "     * to control all of the cursor setting manually through the\n",
       "     * 'cursor' event from matplotlib */\n",
       "    event.preventDefault();\n",
       "    return false;\n",
       "}\n",
       "\n",
       "mpl.figure.prototype._key_event_extra = function(event, name) {\n",
       "    // Handle any extra behaviour associated with a key event\n",
       "}\n",
       "\n",
       "mpl.figure.prototype.key_event = function(event, name) {\n",
       "\n",
       "    // Prevent repeat events\n",
       "    if (name == 'key_press')\n",
       "    {\n",
       "        if (event.which === this._key)\n",
       "            return;\n",
       "        else\n",
       "            this._key = event.which;\n",
       "    }\n",
       "    if (name == 'key_release')\n",
       "        this._key = null;\n",
       "\n",
       "    var value = '';\n",
       "    if (event.ctrlKey && event.which != 17)\n",
       "        value += \"ctrl+\";\n",
       "    if (event.altKey && event.which != 18)\n",
       "        value += \"alt+\";\n",
       "    if (event.shiftKey && event.which != 16)\n",
       "        value += \"shift+\";\n",
       "\n",
       "    value += 'k';\n",
       "    value += event.which.toString();\n",
       "\n",
       "    this._key_event_extra(event, name);\n",
       "\n",
       "    this.send_message(name, {key: value,\n",
       "                             guiEvent: simpleKeys(event)});\n",
       "    return false;\n",
       "}\n",
       "\n",
       "mpl.figure.prototype.toolbar_button_onclick = function(name) {\n",
       "    if (name == 'download') {\n",
       "        this.handle_save(this, null);\n",
       "    } else {\n",
       "        this.send_message(\"toolbar_button\", {name: name});\n",
       "    }\n",
       "};\n",
       "\n",
       "mpl.figure.prototype.toolbar_button_onmouseover = function(tooltip) {\n",
       "    this.message.textContent = tooltip;\n",
       "};\n",
       "mpl.toolbar_items = [[\"Home\", \"Reset original view\", \"fa fa-home icon-home\", \"home\"], [\"Back\", \"Back to previous view\", \"fa fa-arrow-left icon-arrow-left\", \"back\"], [\"Forward\", \"Forward to next view\", \"fa fa-arrow-right icon-arrow-right\", \"forward\"], [\"\", \"\", \"\", \"\"], [\"Pan\", \"Pan axes with left mouse, zoom with right\", \"fa fa-arrows icon-move\", \"pan\"], [\"Zoom\", \"Zoom to rectangle\", \"fa fa-square-o icon-check-empty\", \"zoom\"], [\"\", \"\", \"\", \"\"], [\"Download\", \"Download plot\", \"fa fa-floppy-o icon-save\", \"download\"]];\n",
       "\n",
       "mpl.extensions = [\"eps\", \"jpeg\", \"pdf\", \"png\", \"ps\", \"raw\", \"svg\", \"tif\"];\n",
       "\n",
       "mpl.default_extension = \"png\";var comm_websocket_adapter = function(comm) {\n",
       "    // Create a \"websocket\"-like object which calls the given IPython comm\n",
       "    // object with the appropriate methods. Currently this is a non binary\n",
       "    // socket, so there is still some room for performance tuning.\n",
       "    var ws = {};\n",
       "\n",
       "    ws.close = function() {\n",
       "        comm.close()\n",
       "    };\n",
       "    ws.send = function(m) {\n",
       "        //console.log('sending', m);\n",
       "        comm.send(m);\n",
       "    };\n",
       "    // Register the callback with on_msg.\n",
       "    comm.on_msg(function(msg) {\n",
       "        //console.log('receiving', msg['content']['data'], msg);\n",
       "        // Pass the mpl event to the overridden (by mpl) onmessage function.\n",
       "        ws.onmessage(msg['content']['data'])\n",
       "    });\n",
       "    return ws;\n",
       "}\n",
       "\n",
       "mpl.mpl_figure_comm = function(comm, msg) {\n",
       "    // This is the function which gets called when the mpl process\n",
       "    // starts-up an IPython Comm through the \"matplotlib\" channel.\n",
       "\n",
       "    var id = msg.content.data.id;\n",
       "    // Get hold of the div created by the display call when the Comm\n",
       "    // socket was opened in Python.\n",
       "    var element = $(\"#\" + id);\n",
       "    var ws_proxy = comm_websocket_adapter(comm)\n",
       "\n",
       "    function ondownload(figure, format) {\n",
       "        window.open(figure.imageObj.src);\n",
       "    }\n",
       "\n",
       "    var fig = new mpl.figure(id, ws_proxy,\n",
       "                           ondownload,\n",
       "                           element.get(0));\n",
       "\n",
       "    // Call onopen now - mpl needs it, as it is assuming we've passed it a real\n",
       "    // web socket which is closed, not our websocket->open comm proxy.\n",
       "    ws_proxy.onopen();\n",
       "\n",
       "    fig.parent_element = element.get(0);\n",
       "    fig.cell_info = mpl.find_output_cell(\"<div id='\" + id + \"'></div>\");\n",
       "    if (!fig.cell_info) {\n",
       "        console.error(\"Failed to find cell for figure\", id, fig);\n",
       "        return;\n",
       "    }\n",
       "\n",
       "    var output_index = fig.cell_info[2]\n",
       "    var cell = fig.cell_info[0];\n",
       "\n",
       "};\n",
       "\n",
       "mpl.figure.prototype.handle_close = function(fig, msg) {\n",
       "    var width = fig.canvas.width/mpl.ratio\n",
       "    fig.root.unbind('remove')\n",
       "\n",
       "    // Update the output cell to use the data from the current canvas.\n",
       "    fig.push_to_output();\n",
       "    var dataURL = fig.canvas.toDataURL();\n",
       "    // Re-enable the keyboard manager in IPython - without this line, in FF,\n",
       "    // the notebook keyboard shortcuts fail.\n",
       "    IPython.keyboard_manager.enable()\n",
       "    $(fig.parent_element).html('<img src=\"' + dataURL + '\" width=\"' + width + '\">');\n",
       "    fig.close_ws(fig, msg);\n",
       "}\n",
       "\n",
       "mpl.figure.prototype.close_ws = function(fig, msg){\n",
       "    fig.send_message('closing', msg);\n",
       "    // fig.ws.close()\n",
       "}\n",
       "\n",
       "mpl.figure.prototype.push_to_output = function(remove_interactive) {\n",
       "    // Turn the data on the canvas into data in the output cell.\n",
       "    var width = this.canvas.width/mpl.ratio\n",
       "    var dataURL = this.canvas.toDataURL();\n",
       "    this.cell_info[1]['text/html'] = '<img src=\"' + dataURL + '\" width=\"' + width + '\">';\n",
       "}\n",
       "\n",
       "mpl.figure.prototype.updated_canvas_event = function() {\n",
       "    // Tell IPython that the notebook contents must change.\n",
       "    IPython.notebook.set_dirty(true);\n",
       "    this.send_message(\"ack\", {});\n",
       "    var fig = this;\n",
       "    // Wait a second, then push the new image to the DOM so\n",
       "    // that it is saved nicely (might be nice to debounce this).\n",
       "    setTimeout(function () { fig.push_to_output() }, 1000);\n",
       "}\n",
       "\n",
       "mpl.figure.prototype._init_toolbar = function() {\n",
       "    var fig = this;\n",
       "\n",
       "    var nav_element = $('<div/>');\n",
       "    nav_element.attr('style', 'width: 100%');\n",
       "    this.root.append(nav_element);\n",
       "\n",
       "    // Define a callback function for later on.\n",
       "    function toolbar_event(event) {\n",
       "        return fig.toolbar_button_onclick(event['data']);\n",
       "    }\n",
       "    function toolbar_mouse_event(event) {\n",
       "        return fig.toolbar_button_onmouseover(event['data']);\n",
       "    }\n",
       "\n",
       "    for(var toolbar_ind in mpl.toolbar_items){\n",
       "        var name = mpl.toolbar_items[toolbar_ind][0];\n",
       "        var tooltip = mpl.toolbar_items[toolbar_ind][1];\n",
       "        var image = mpl.toolbar_items[toolbar_ind][2];\n",
       "        var method_name = mpl.toolbar_items[toolbar_ind][3];\n",
       "\n",
       "        if (!name) { continue; };\n",
       "\n",
       "        var button = $('<button class=\"btn btn-default\" href=\"#\" title=\"' + name + '\"><i class=\"fa ' + image + ' fa-lg\"></i></button>');\n",
       "        button.click(method_name, toolbar_event);\n",
       "        button.mouseover(tooltip, toolbar_mouse_event);\n",
       "        nav_element.append(button);\n",
       "    }\n",
       "\n",
       "    // Add the status bar.\n",
       "    var status_bar = $('<span class=\"mpl-message\" style=\"text-align:right; float: right;\"/>');\n",
       "    nav_element.append(status_bar);\n",
       "    this.message = status_bar[0];\n",
       "\n",
       "    // Add the close button to the window.\n",
       "    var buttongrp = $('<div class=\"btn-group inline pull-right\"></div>');\n",
       "    var button = $('<button class=\"btn btn-mini btn-primary\" href=\"#\" title=\"Stop Interaction\"><i class=\"fa fa-power-off icon-remove icon-large\"></i></button>');\n",
       "    button.click(function (evt) { fig.handle_close(fig, {}); } );\n",
       "    button.mouseover('Stop Interaction', toolbar_mouse_event);\n",
       "    buttongrp.append(button);\n",
       "    var titlebar = this.root.find($('.ui-dialog-titlebar'));\n",
       "    titlebar.prepend(buttongrp);\n",
       "}\n",
       "\n",
       "mpl.figure.prototype._root_extra_style = function(el){\n",
       "    var fig = this\n",
       "    el.on(\"remove\", function(){\n",
       "\tfig.close_ws(fig, {});\n",
       "    });\n",
       "}\n",
       "\n",
       "mpl.figure.prototype._canvas_extra_style = function(el){\n",
       "    // this is important to make the div 'focusable\n",
       "    el.attr('tabindex', 0)\n",
       "    // reach out to IPython and tell the keyboard manager to turn it's self\n",
       "    // off when our div gets focus\n",
       "\n",
       "    // location in version 3\n",
       "    if (IPython.notebook.keyboard_manager) {\n",
       "        IPython.notebook.keyboard_manager.register_events(el);\n",
       "    }\n",
       "    else {\n",
       "        // location in version 2\n",
       "        IPython.keyboard_manager.register_events(el);\n",
       "    }\n",
       "\n",
       "}\n",
       "\n",
       "mpl.figure.prototype._key_event_extra = function(event, name) {\n",
       "    var manager = IPython.notebook.keyboard_manager;\n",
       "    if (!manager)\n",
       "        manager = IPython.keyboard_manager;\n",
       "\n",
       "    // Check for shift+enter\n",
       "    if (event.shiftKey && event.which == 13) {\n",
       "        this.canvas_div.blur();\n",
       "        // select the cell after this one\n",
       "        var index = IPython.notebook.find_cell_index(this.cell_info[0]);\n",
       "        IPython.notebook.select(index + 1);\n",
       "    }\n",
       "}\n",
       "\n",
       "mpl.figure.prototype.handle_save = function(fig, msg) {\n",
       "    fig.ondownload(fig, null);\n",
       "}\n",
       "\n",
       "\n",
       "mpl.find_output_cell = function(html_output) {\n",
       "    // Return the cell and output element which can be found *uniquely* in the notebook.\n",
       "    // Note - this is a bit hacky, but it is done because the \"notebook_saving.Notebook\"\n",
       "    // IPython event is triggered only after the cells have been serialised, which for\n",
       "    // our purposes (turning an active figure into a static one), is too late.\n",
       "    var cells = IPython.notebook.get_cells();\n",
       "    var ncells = cells.length;\n",
       "    for (var i=0; i<ncells; i++) {\n",
       "        var cell = cells[i];\n",
       "        if (cell.cell_type === 'code'){\n",
       "            for (var j=0; j<cell.output_area.outputs.length; j++) {\n",
       "                var data = cell.output_area.outputs[j];\n",
       "                if (data.data) {\n",
       "                    // IPython >= 3 moved mimebundle to data attribute of output\n",
       "                    data = data.data;\n",
       "                }\n",
       "                if (data['text/html'] == html_output) {\n",
       "                    return [cell, data, j];\n",
       "                }\n",
       "            }\n",
       "        }\n",
       "    }\n",
       "}\n",
       "\n",
       "// Register the function which deals with the matplotlib target/channel.\n",
       "// The kernel may be null if the page has been refreshed.\n",
       "if (IPython.notebook.kernel != null) {\n",
       "    IPython.notebook.kernel.comm_manager.register_target('matplotlib', mpl.mpl_figure_comm);\n",
       "}\n"
      ],
      "text/plain": [
       "<IPython.core.display.Javascript object>"
      ]
     },
     "metadata": {},
     "output_type": "display_data"
    },
    {
     "data": {
      "text/html": [
       "<img src=\"data:image/png;base64,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\" width=\"640\">"
      ],
      "text/plain": [
       "<IPython.core.display.HTML object>"
      ]
     },
     "metadata": {},
     "output_type": "display_data"
    }
   ],
   "source": [
    "plt.scatter(evens, e_out, label=\"Evens\", marker='.')\n",
    "plt.plot(range(50),range(50))\n",
    "plt.scatter(odds, o_out, label=\"Odds\", marker='.')\n",
    "#for i in range(6):\n",
    "#\tplt.plot([0,50],[2**i,2**i],label=f\"2^{i}\")\n",
    "initval = 45\n",
    "pow_2 = plot_path(initval)\n",
    "\n",
    "plt.legend()\n",
    "plt.show()"
   ]
  },
  {
   "cell_type": "code",
   "execution_count": 64,
   "metadata": {
    "scrolled": true
   },
   "outputs": [
    {
     "data": {
      "application/vnd.plotly.v1+json": {
       "config": {
        "plotlyServerURL": "https://plot.ly"
       },
       "data": [
        {
         "hovertemplate": "x=%{x}<br>y=%{y}<extra></extra>",
         "legendgroup": "",
         "marker": {
          "color": "#636efa",
          "symbol": "circle"
         },
         "mode": "markers",
         "name": "",
         "orientation": "v",
         "showlegend": false,
         "type": "scatter",
         "x": [
          3,
          4,
          5,
          6,
          7,
          8,
          9,
          10,
          11,
          12,
          13,
          14,
          15,
          16,
          17,
          18,
          19,
          20,
          21,
          22,
          23,
          24,
          25,
          26,
          27,
          28,
          29,
          30,
          31,
          32,
          33,
          34,
          35,
          36,
          37,
          38,
          39,
          40,
          41,
          42,
          43,
          44,
          45,
          46,
          47,
          48,
          49,
          50,
          51,
          52,
          53,
          54,
          55,
          56,
          57,
          58,
          59,
          60,
          61,
          62,
          63,
          64,
          65,
          66,
          67,
          68,
          69,
          70,
          71,
          72,
          73,
          74,
          75,
          76,
          77,
          78,
          79,
          80,
          81,
          82,
          83,
          84,
          85,
          86,
          87,
          88,
          89,
          90,
          91,
          92,
          93,
          94,
          95,
          96,
          97,
          98,
          99
         ],
         "xaxis": "x",
         "y": [
          4,
          2,
          4,
          4,
          4,
          3,
          4,
          4,
          4,
          4,
          4,
          4,
          4,
          4,
          4,
          4,
          4,
          4,
          6,
          4,
          4,
          4,
          4,
          4,
          4,
          4,
          4,
          4,
          4,
          5,
          4,
          4,
          4,
          4,
          4,
          4,
          4,
          4,
          4,
          6,
          4,
          4,
          4,
          4,
          4,
          4,
          4,
          4,
          4,
          4,
          4,
          4,
          4,
          4,
          4,
          4,
          4,
          4,
          4,
          4,
          4,
          6,
          4,
          4,
          4,
          4,
          4,
          4,
          4,
          4,
          4,
          4,
          8,
          4,
          4,
          4,
          4,
          4,
          4,
          4,
          4,
          6,
          8,
          4,
          4,
          4,
          4,
          4,
          4,
          4,
          4,
          4,
          4,
          4,
          4,
          4,
          4
         ],
         "yaxis": "y"
        }
       ],
       "layout": {
        "legend": {
         "tracegroupgap": 0
        },
        "margin": {
         "t": 60
        },
        "template": {
         "data": {
          "bar": [
           {
            "error_x": {
             "color": "#2a3f5f"
            },
            "error_y": {
             "color": "#2a3f5f"
            },
            "marker": {
             "line": {
              "color": "#E5ECF6",
              "width": 0.5
             }
            },
            "type": "bar"
           }
          ],
          "barpolar": [
           {
            "marker": {
             "line": {
              "color": "#E5ECF6",
              "width": 0.5
             }
            },
            "type": "barpolar"
           }
          ],
          "carpet": [
           {
            "aaxis": {
             "endlinecolor": "#2a3f5f",
             "gridcolor": "white",
             "linecolor": "white",
             "minorgridcolor": "white",
             "startlinecolor": "#2a3f5f"
            },
            "baxis": {
             "endlinecolor": "#2a3f5f",
             "gridcolor": "white",
             "linecolor": "white",
             "minorgridcolor": "white",
             "startlinecolor": "#2a3f5f"
            },
            "type": "carpet"
           }
          ],
          "choropleth": [
           {
            "colorbar": {
             "outlinewidth": 0,
             "ticks": ""
            },
            "type": "choropleth"
           }
          ],
          "contour": [
           {
            "colorbar": {
             "outlinewidth": 0,
             "ticks": ""
            },
            "colorscale": [
             [
              0,
              "#0d0887"
             ],
             [
              0.1111111111111111,
              "#46039f"
             ],
             [
              0.2222222222222222,
              "#7201a8"
             ],
             [
              0.3333333333333333,
              "#9c179e"
             ],
             [
              0.4444444444444444,
              "#bd3786"
             ],
             [
              0.5555555555555556,
              "#d8576b"
             ],
             [
              0.6666666666666666,
              "#ed7953"
             ],
             [
              0.7777777777777778,
              "#fb9f3a"
             ],
             [
              0.8888888888888888,
              "#fdca26"
             ],
             [
              1,
              "#f0f921"
             ]
            ],
            "type": "contour"
           }
          ],
          "contourcarpet": [
           {
            "colorbar": {
             "outlinewidth": 0,
             "ticks": ""
            },
            "type": "contourcarpet"
           }
          ],
          "heatmap": [
           {
            "colorbar": {
             "outlinewidth": 0,
             "ticks": ""
            },
            "colorscale": [
             [
              0,
              "#0d0887"
             ],
             [
              0.1111111111111111,
              "#46039f"
             ],
             [
              0.2222222222222222,
              "#7201a8"
             ],
             [
              0.3333333333333333,
              "#9c179e"
             ],
             [
              0.4444444444444444,
              "#bd3786"
             ],
             [
              0.5555555555555556,
              "#d8576b"
             ],
             [
              0.6666666666666666,
              "#ed7953"
             ],
             [
              0.7777777777777778,
              "#fb9f3a"
             ],
             [
              0.8888888888888888,
              "#fdca26"
             ],
             [
              1,
              "#f0f921"
             ]
            ],
            "type": "heatmap"
           }
          ],
          "heatmapgl": [
           {
            "colorbar": {
             "outlinewidth": 0,
             "ticks": ""
            },
            "colorscale": [
             [
              0,
              "#0d0887"
             ],
             [
              0.1111111111111111,
              "#46039f"
             ],
             [
              0.2222222222222222,
              "#7201a8"
             ],
             [
              0.3333333333333333,
              "#9c179e"
             ],
             [
              0.4444444444444444,
              "#bd3786"
             ],
             [
              0.5555555555555556,
              "#d8576b"
             ],
             [
              0.6666666666666666,
              "#ed7953"
             ],
             [
              0.7777777777777778,
              "#fb9f3a"
             ],
             [
              0.8888888888888888,
              "#fdca26"
             ],
             [
              1,
              "#f0f921"
             ]
            ],
            "type": "heatmapgl"
           }
          ],
          "histogram": [
           {
            "marker": {
             "colorbar": {
              "outlinewidth": 0,
              "ticks": ""
             }
            },
            "type": "histogram"
           }
          ],
          "histogram2d": [
           {
            "colorbar": {
             "outlinewidth": 0,
             "ticks": ""
            },
            "colorscale": [
             [
              0,
              "#0d0887"
             ],
             [
              0.1111111111111111,
              "#46039f"
             ],
             [
              0.2222222222222222,
              "#7201a8"
             ],
             [
              0.3333333333333333,
              "#9c179e"
             ],
             [
              0.4444444444444444,
              "#bd3786"
             ],
             [
              0.5555555555555556,
              "#d8576b"
             ],
             [
              0.6666666666666666,
              "#ed7953"
             ],
             [
              0.7777777777777778,
              "#fb9f3a"
             ],
             [
              0.8888888888888888,
              "#fdca26"
             ],
             [
              1,
              "#f0f921"
             ]
            ],
            "type": "histogram2d"
           }
          ],
          "histogram2dcontour": [
           {
            "colorbar": {
             "outlinewidth": 0,
             "ticks": ""
            },
            "colorscale": [
             [
              0,
              "#0d0887"
             ],
             [
              0.1111111111111111,
              "#46039f"
             ],
             [
              0.2222222222222222,
              "#7201a8"
             ],
             [
              0.3333333333333333,
              "#9c179e"
             ],
             [
              0.4444444444444444,
              "#bd3786"
             ],
             [
              0.5555555555555556,
              "#d8576b"
             ],
             [
              0.6666666666666666,
              "#ed7953"
             ],
             [
              0.7777777777777778,
              "#fb9f3a"
             ],
             [
              0.8888888888888888,
              "#fdca26"
             ],
             [
              1,
              "#f0f921"
             ]
            ],
            "type": "histogram2dcontour"
           }
          ],
          "mesh3d": [
           {
            "colorbar": {
             "outlinewidth": 0,
             "ticks": ""
            },
            "type": "mesh3d"
           }
          ],
          "parcoords": [
           {
            "line": {
             "colorbar": {
              "outlinewidth": 0,
              "ticks": ""
             }
            },
            "type": "parcoords"
           }
          ],
          "pie": [
           {
            "automargin": true,
            "type": "pie"
           }
          ],
          "scatter": [
           {
            "marker": {
             "colorbar": {
              "outlinewidth": 0,
              "ticks": ""
             }
            },
            "type": "scatter"
           }
          ],
          "scatter3d": [
           {
            "line": {
             "colorbar": {
              "outlinewidth": 0,
              "ticks": ""
             }
            },
            "marker": {
             "colorbar": {
              "outlinewidth": 0,
              "ticks": ""
             }
            },
            "type": "scatter3d"
           }
          ],
          "scattercarpet": [
           {
            "marker": {
             "colorbar": {
              "outlinewidth": 0,
              "ticks": ""
             }
            },
            "type": "scattercarpet"
           }
          ],
          "scattergeo": [
           {
            "marker": {
             "colorbar": {
              "outlinewidth": 0,
              "ticks": ""
             }
            },
            "type": "scattergeo"
           }
          ],
          "scattergl": [
           {
            "marker": {
             "colorbar": {
              "outlinewidth": 0,
              "ticks": ""
             }
            },
            "type": "scattergl"
           }
          ],
          "scattermapbox": [
           {
            "marker": {
             "colorbar": {
              "outlinewidth": 0,
              "ticks": ""
             }
            },
            "type": "scattermapbox"
           }
          ],
          "scatterpolar": [
           {
            "marker": {
             "colorbar": {
              "outlinewidth": 0,
              "ticks": ""
             }
            },
            "type": "scatterpolar"
           }
          ],
          "scatterpolargl": [
           {
            "marker": {
             "colorbar": {
              "outlinewidth": 0,
              "ticks": ""
             }
            },
            "type": "scatterpolargl"
           }
          ],
          "scatterternary": [
           {
            "marker": {
             "colorbar": {
              "outlinewidth": 0,
              "ticks": ""
             }
            },
            "type": "scatterternary"
           }
          ],
          "surface": [
           {
            "colorbar": {
             "outlinewidth": 0,
             "ticks": ""
            },
            "colorscale": [
             [
              0,
              "#0d0887"
             ],
             [
              0.1111111111111111,
              "#46039f"
             ],
             [
              0.2222222222222222,
              "#7201a8"
             ],
             [
              0.3333333333333333,
              "#9c179e"
             ],
             [
              0.4444444444444444,
              "#bd3786"
             ],
             [
              0.5555555555555556,
              "#d8576b"
             ],
             [
              0.6666666666666666,
              "#ed7953"
             ],
             [
              0.7777777777777778,
              "#fb9f3a"
             ],
             [
              0.8888888888888888,
              "#fdca26"
             ],
             [
              1,
              "#f0f921"
             ]
            ],
            "type": "surface"
           }
          ],
          "table": [
           {
            "cells": {
             "fill": {
              "color": "#EBF0F8"
             },
             "line": {
              "color": "white"
             }
            },
            "header": {
             "fill": {
              "color": "#C8D4E3"
             },
             "line": {
              "color": "white"
             }
            },
            "type": "table"
           }
          ]
         },
         "layout": {
          "annotationdefaults": {
           "arrowcolor": "#2a3f5f",
           "arrowhead": 0,
           "arrowwidth": 1
          },
          "autotypenumbers": "strict",
          "coloraxis": {
           "colorbar": {
            "outlinewidth": 0,
            "ticks": ""
           }
          },
          "colorscale": {
           "diverging": [
            [
             0,
             "#8e0152"
            ],
            [
             0.1,
             "#c51b7d"
            ],
            [
             0.2,
             "#de77ae"
            ],
            [
             0.3,
             "#f1b6da"
            ],
            [
             0.4,
             "#fde0ef"
            ],
            [
             0.5,
             "#f7f7f7"
            ],
            [
             0.6,
             "#e6f5d0"
            ],
            [
             0.7,
             "#b8e186"
            ],
            [
             0.8,
             "#7fbc41"
            ],
            [
             0.9,
             "#4d9221"
            ],
            [
             1,
             "#276419"
            ]
           ],
           "sequential": [
            [
             0,
             "#0d0887"
            ],
            [
             0.1111111111111111,
             "#46039f"
            ],
            [
             0.2222222222222222,
             "#7201a8"
            ],
            [
             0.3333333333333333,
             "#9c179e"
            ],
            [
             0.4444444444444444,
             "#bd3786"
            ],
            [
             0.5555555555555556,
             "#d8576b"
            ],
            [
             0.6666666666666666,
             "#ed7953"
            ],
            [
             0.7777777777777778,
             "#fb9f3a"
            ],
            [
             0.8888888888888888,
             "#fdca26"
            ],
            [
             1,
             "#f0f921"
            ]
           ],
           "sequentialminus": [
            [
             0,
             "#0d0887"
            ],
            [
             0.1111111111111111,
             "#46039f"
            ],
            [
             0.2222222222222222,
             "#7201a8"
            ],
            [
             0.3333333333333333,
             "#9c179e"
            ],
            [
             0.4444444444444444,
             "#bd3786"
            ],
            [
             0.5555555555555556,
             "#d8576b"
            ],
            [
             0.6666666666666666,
             "#ed7953"
            ],
            [
             0.7777777777777778,
             "#fb9f3a"
            ],
            [
             0.8888888888888888,
             "#fdca26"
            ],
            [
             1,
             "#f0f921"
            ]
           ]
          },
          "colorway": [
           "#636efa",
           "#EF553B",
           "#00cc96",
           "#ab63fa",
           "#FFA15A",
           "#19d3f3",
           "#FF6692",
           "#B6E880",
           "#FF97FF",
           "#FECB52"
          ],
          "font": {
           "color": "#2a3f5f"
          },
          "geo": {
           "bgcolor": "white",
           "lakecolor": "white",
           "landcolor": "#E5ECF6",
           "showlakes": true,
           "showland": true,
           "subunitcolor": "white"
          },
          "hoverlabel": {
           "align": "left"
          },
          "hovermode": "closest",
          "mapbox": {
           "style": "light"
          },
          "paper_bgcolor": "white",
          "plot_bgcolor": "#E5ECF6",
          "polar": {
           "angularaxis": {
            "gridcolor": "white",
            "linecolor": "white",
            "ticks": ""
           },
           "bgcolor": "#E5ECF6",
           "radialaxis": {
            "gridcolor": "white",
            "linecolor": "white",
            "ticks": ""
           }
          },
          "scene": {
           "xaxis": {
            "backgroundcolor": "#E5ECF6",
            "gridcolor": "white",
            "gridwidth": 2,
            "linecolor": "white",
            "showbackground": true,
            "ticks": "",
            "zerolinecolor": "white"
           },
           "yaxis": {
            "backgroundcolor": "#E5ECF6",
            "gridcolor": "white",
            "gridwidth": 2,
            "linecolor": "white",
            "showbackground": true,
            "ticks": "",
            "zerolinecolor": "white"
           },
           "zaxis": {
            "backgroundcolor": "#E5ECF6",
            "gridcolor": "white",
            "gridwidth": 2,
            "linecolor": "white",
            "showbackground": true,
            "ticks": "",
            "zerolinecolor": "white"
           }
          },
          "shapedefaults": {
           "line": {
            "color": "#2a3f5f"
           }
          },
          "ternary": {
           "aaxis": {
            "gridcolor": "white",
            "linecolor": "white",
            "ticks": ""
           },
           "baxis": {
            "gridcolor": "white",
            "linecolor": "white",
            "ticks": ""
           },
           "bgcolor": "#E5ECF6",
           "caxis": {
            "gridcolor": "white",
            "linecolor": "white",
            "ticks": ""
           }
          },
          "title": {
           "x": 0.05
          },
          "xaxis": {
           "automargin": true,
           "gridcolor": "white",
           "linecolor": "white",
           "ticks": "",
           "title": {
            "standoff": 15
           },
           "zerolinecolor": "white",
           "zerolinewidth": 2
          },
          "yaxis": {
           "automargin": true,
           "gridcolor": "white",
           "linecolor": "white",
           "ticks": "",
           "title": {
            "standoff": 15
           },
           "zerolinecolor": "white",
           "zerolinewidth": 2
          }
         }
        },
        "xaxis": {
         "anchor": "y",
         "domain": [
          0,
          1
         ],
         "title": {
          "text": "x"
         }
        },
        "yaxis": {
         "anchor": "x",
         "domain": [
          0,
          1
         ],
         "title": {
          "text": "y"
         }
        }
       }
      },
      "text/html": [
       "<div>                            <div id=\"2a81e1bd-bc4a-427a-9def-f46cf391bc59\" class=\"plotly-graph-div\" style=\"height:525px; width:100%;\"></div>            <script type=\"text/javascript\">                require([\"plotly\"], function(Plotly) {                    window.PLOTLYENV=window.PLOTLYENV || {};                                    if (document.getElementById(\"2a81e1bd-bc4a-427a-9def-f46cf391bc59\")) {                    Plotly.newPlot(                        \"2a81e1bd-bc4a-427a-9def-f46cf391bc59\",                        [{\"hovertemplate\": \"x=%{x}<br>y=%{y}<extra></extra>\", \"legendgroup\": \"\", \"marker\": {\"color\": \"#636efa\", \"symbol\": \"circle\"}, \"mode\": \"markers\", \"name\": \"\", \"orientation\": \"v\", \"showlegend\": false, \"type\": \"scatter\", \"x\": [3, 4, 5, 6, 7, 8, 9, 10, 11, 12, 13, 14, 15, 16, 17, 18, 19, 20, 21, 22, 23, 24, 25, 26, 27, 28, 29, 30, 31, 32, 33, 34, 35, 36, 37, 38, 39, 40, 41, 42, 43, 44, 45, 46, 47, 48, 49, 50, 51, 52, 53, 54, 55, 56, 57, 58, 59, 60, 61, 62, 63, 64, 65, 66, 67, 68, 69, 70, 71, 72, 73, 74, 75, 76, 77, 78, 79, 80, 81, 82, 83, 84, 85, 86, 87, 88, 89, 90, 91, 92, 93, 94, 95, 96, 97, 98, 99], \"xaxis\": \"x\", \"y\": [4.0, 2.0, 4.0, 4.0, 4.0, 3.0, 4.0, 4.0, 4.0, 4.0, 4.0, 4.0, 4.0, 4.0, 4.0, 4.0, 4.0, 4.0, 6.0, 4.0, 4.0, 4.0, 4.0, 4.0, 4.0, 4.0, 4.0, 4.0, 4.0, 5.0, 4.0, 4.0, 4.0, 4.0, 4.0, 4.0, 4.0, 4.0, 4.0, 6.0, 4.0, 4.0, 4.0, 4.0, 4.0, 4.0, 4.0, 4.0, 4.0, 4.0, 4.0, 4.0, 4.0, 4.0, 4.0, 4.0, 4.0, 4.0, 4.0, 4.0, 4.0, 6.0, 4.0, 4.0, 4.0, 4.0, 4.0, 4.0, 4.0, 4.0, 4.0, 4.0, 8.0, 4.0, 4.0, 4.0, 4.0, 4.0, 4.0, 4.0, 4.0, 6.0, 8.0, 4.0, 4.0, 4.0, 4.0, 4.0, 4.0, 4.0, 4.0, 4.0, 4.0, 4.0, 4.0, 4.0, 4.0], \"yaxis\": \"y\"}],                        {\"legend\": {\"tracegroupgap\": 0}, \"margin\": {\"t\": 60}, \"template\": {\"data\": {\"bar\": [{\"error_x\": {\"color\": \"#2a3f5f\"}, \"error_y\": {\"color\": \"#2a3f5f\"}, \"marker\": {\"line\": {\"color\": \"#E5ECF6\", \"width\": 0.5}}, \"type\": \"bar\"}], \"barpolar\": [{\"marker\": {\"line\": {\"color\": \"#E5ECF6\", \"width\": 0.5}}, \"type\": \"barpolar\"}], \"carpet\": [{\"aaxis\": {\"endlinecolor\": \"#2a3f5f\", \"gridcolor\": \"white\", \"linecolor\": \"white\", \"minorgridcolor\": \"white\", \"startlinecolor\": \"#2a3f5f\"}, \"baxis\": {\"endlinecolor\": \"#2a3f5f\", \"gridcolor\": \"white\", \"linecolor\": \"white\", \"minorgridcolor\": \"white\", \"startlinecolor\": \"#2a3f5f\"}, \"type\": \"carpet\"}], \"choropleth\": [{\"colorbar\": {\"outlinewidth\": 0, \"ticks\": \"\"}, \"type\": \"choropleth\"}], \"contour\": [{\"colorbar\": {\"outlinewidth\": 0, \"ticks\": \"\"}, \"colorscale\": [[0.0, \"#0d0887\"], [0.1111111111111111, \"#46039f\"], [0.2222222222222222, \"#7201a8\"], [0.3333333333333333, \"#9c179e\"], [0.4444444444444444, \"#bd3786\"], [0.5555555555555556, \"#d8576b\"], [0.6666666666666666, \"#ed7953\"], [0.7777777777777778, \"#fb9f3a\"], [0.8888888888888888, \"#fdca26\"], [1.0, \"#f0f921\"]], \"type\": \"contour\"}], \"contourcarpet\": [{\"colorbar\": {\"outlinewidth\": 0, \"ticks\": \"\"}, \"type\": \"contourcarpet\"}], \"heatmap\": [{\"colorbar\": {\"outlinewidth\": 0, \"ticks\": \"\"}, \"colorscale\": [[0.0, \"#0d0887\"], [0.1111111111111111, \"#46039f\"], [0.2222222222222222, \"#7201a8\"], [0.3333333333333333, \"#9c179e\"], [0.4444444444444444, \"#bd3786\"], [0.5555555555555556, \"#d8576b\"], [0.6666666666666666, \"#ed7953\"], [0.7777777777777778, \"#fb9f3a\"], [0.8888888888888888, \"#fdca26\"], [1.0, \"#f0f921\"]], \"type\": \"heatmap\"}], \"heatmapgl\": [{\"colorbar\": {\"outlinewidth\": 0, \"ticks\": \"\"}, \"colorscale\": [[0.0, \"#0d0887\"], [0.1111111111111111, \"#46039f\"], [0.2222222222222222, \"#7201a8\"], [0.3333333333333333, \"#9c179e\"], [0.4444444444444444, \"#bd3786\"], [0.5555555555555556, \"#d8576b\"], [0.6666666666666666, \"#ed7953\"], [0.7777777777777778, \"#fb9f3a\"], [0.8888888888888888, \"#fdca26\"], [1.0, \"#f0f921\"]], \"type\": \"heatmapgl\"}], \"histogram\": [{\"marker\": {\"colorbar\": {\"outlinewidth\": 0, \"ticks\": \"\"}}, \"type\": \"histogram\"}], \"histogram2d\": [{\"colorbar\": {\"outlinewidth\": 0, \"ticks\": \"\"}, \"colorscale\": [[0.0, \"#0d0887\"], [0.1111111111111111, \"#46039f\"], [0.2222222222222222, \"#7201a8\"], [0.3333333333333333, \"#9c179e\"], [0.4444444444444444, \"#bd3786\"], [0.5555555555555556, \"#d8576b\"], [0.6666666666666666, \"#ed7953\"], [0.7777777777777778, \"#fb9f3a\"], [0.8888888888888888, \"#fdca26\"], [1.0, \"#f0f921\"]], \"type\": \"histogram2d\"}], \"histogram2dcontour\": [{\"colorbar\": {\"outlinewidth\": 0, \"ticks\": \"\"}, \"colorscale\": [[0.0, \"#0d0887\"], [0.1111111111111111, \"#46039f\"], [0.2222222222222222, \"#7201a8\"], [0.3333333333333333, \"#9c179e\"], [0.4444444444444444, \"#bd3786\"], [0.5555555555555556, \"#d8576b\"], [0.6666666666666666, \"#ed7953\"], [0.7777777777777778, \"#fb9f3a\"], [0.8888888888888888, \"#fdca26\"], [1.0, \"#f0f921\"]], \"type\": \"histogram2dcontour\"}], \"mesh3d\": [{\"colorbar\": {\"outlinewidth\": 0, \"ticks\": \"\"}, \"type\": \"mesh3d\"}], \"parcoords\": [{\"line\": {\"colorbar\": {\"outlinewidth\": 0, \"ticks\": \"\"}}, \"type\": \"parcoords\"}], \"pie\": [{\"automargin\": true, \"type\": \"pie\"}], \"scatter\": [{\"marker\": {\"colorbar\": {\"outlinewidth\": 0, \"ticks\": \"\"}}, \"type\": \"scatter\"}], \"scatter3d\": [{\"line\": {\"colorbar\": {\"outlinewidth\": 0, \"ticks\": \"\"}}, \"marker\": {\"colorbar\": {\"outlinewidth\": 0, \"ticks\": \"\"}}, \"type\": \"scatter3d\"}], \"scattercarpet\": [{\"marker\": {\"colorbar\": {\"outlinewidth\": 0, \"ticks\": \"\"}}, \"type\": \"scattercarpet\"}], \"scattergeo\": [{\"marker\": {\"colorbar\": {\"outlinewidth\": 0, \"ticks\": \"\"}}, \"type\": \"scattergeo\"}], \"scattergl\": [{\"marker\": {\"colorbar\": {\"outlinewidth\": 0, \"ticks\": \"\"}}, \"type\": \"scattergl\"}], \"scattermapbox\": [{\"marker\": {\"colorbar\": {\"outlinewidth\": 0, \"ticks\": \"\"}}, \"type\": \"scattermapbox\"}], \"scatterpolar\": [{\"marker\": {\"colorbar\": {\"outlinewidth\": 0, \"ticks\": \"\"}}, \"type\": \"scatterpolar\"}], \"scatterpolargl\": [{\"marker\": {\"colorbar\": {\"outlinewidth\": 0, \"ticks\": \"\"}}, \"type\": \"scatterpolargl\"}], \"scatterternary\": [{\"marker\": {\"colorbar\": {\"outlinewidth\": 0, \"ticks\": \"\"}}, \"type\": \"scatterternary\"}], \"surface\": [{\"colorbar\": {\"outlinewidth\": 0, \"ticks\": \"\"}, \"colorscale\": [[0.0, \"#0d0887\"], [0.1111111111111111, \"#46039f\"], [0.2222222222222222, \"#7201a8\"], [0.3333333333333333, \"#9c179e\"], [0.4444444444444444, \"#bd3786\"], [0.5555555555555556, \"#d8576b\"], [0.6666666666666666, \"#ed7953\"], [0.7777777777777778, \"#fb9f3a\"], [0.8888888888888888, \"#fdca26\"], [1.0, \"#f0f921\"]], \"type\": \"surface\"}], \"table\": [{\"cells\": {\"fill\": {\"color\": \"#EBF0F8\"}, \"line\": {\"color\": \"white\"}}, \"header\": {\"fill\": {\"color\": \"#C8D4E3\"}, \"line\": {\"color\": \"white\"}}, \"type\": \"table\"}]}, \"layout\": {\"annotationdefaults\": {\"arrowcolor\": \"#2a3f5f\", \"arrowhead\": 0, \"arrowwidth\": 1}, \"autotypenumbers\": \"strict\", \"coloraxis\": {\"colorbar\": {\"outlinewidth\": 0, \"ticks\": \"\"}}, \"colorscale\": {\"diverging\": [[0, \"#8e0152\"], [0.1, \"#c51b7d\"], [0.2, \"#de77ae\"], [0.3, \"#f1b6da\"], [0.4, \"#fde0ef\"], [0.5, \"#f7f7f7\"], [0.6, \"#e6f5d0\"], [0.7, \"#b8e186\"], [0.8, \"#7fbc41\"], [0.9, \"#4d9221\"], [1, \"#276419\"]], \"sequential\": [[0.0, \"#0d0887\"], [0.1111111111111111, \"#46039f\"], [0.2222222222222222, \"#7201a8\"], [0.3333333333333333, \"#9c179e\"], [0.4444444444444444, \"#bd3786\"], [0.5555555555555556, \"#d8576b\"], [0.6666666666666666, \"#ed7953\"], [0.7777777777777778, \"#fb9f3a\"], [0.8888888888888888, \"#fdca26\"], [1.0, \"#f0f921\"]], \"sequentialminus\": [[0.0, \"#0d0887\"], [0.1111111111111111, \"#46039f\"], [0.2222222222222222, \"#7201a8\"], [0.3333333333333333, \"#9c179e\"], [0.4444444444444444, \"#bd3786\"], [0.5555555555555556, \"#d8576b\"], [0.6666666666666666, \"#ed7953\"], [0.7777777777777778, \"#fb9f3a\"], [0.8888888888888888, \"#fdca26\"], [1.0, \"#f0f921\"]]}, \"colorway\": [\"#636efa\", \"#EF553B\", \"#00cc96\", \"#ab63fa\", \"#FFA15A\", \"#19d3f3\", \"#FF6692\", \"#B6E880\", \"#FF97FF\", \"#FECB52\"], \"font\": {\"color\": \"#2a3f5f\"}, \"geo\": {\"bgcolor\": \"white\", \"lakecolor\": \"white\", \"landcolor\": \"#E5ECF6\", \"showlakes\": true, \"showland\": true, \"subunitcolor\": \"white\"}, \"hoverlabel\": {\"align\": \"left\"}, \"hovermode\": \"closest\", \"mapbox\": {\"style\": \"light\"}, \"paper_bgcolor\": \"white\", \"plot_bgcolor\": \"#E5ECF6\", \"polar\": {\"angularaxis\": {\"gridcolor\": \"white\", \"linecolor\": \"white\", \"ticks\": \"\"}, \"bgcolor\": \"#E5ECF6\", \"radialaxis\": {\"gridcolor\": \"white\", \"linecolor\": \"white\", \"ticks\": \"\"}}, \"scene\": {\"xaxis\": {\"backgroundcolor\": \"#E5ECF6\", \"gridcolor\": \"white\", \"gridwidth\": 2, \"linecolor\": \"white\", \"showbackground\": true, \"ticks\": \"\", \"zerolinecolor\": \"white\"}, \"yaxis\": {\"backgroundcolor\": \"#E5ECF6\", \"gridcolor\": \"white\", \"gridwidth\": 2, \"linecolor\": \"white\", \"showbackground\": true, \"ticks\": \"\", \"zerolinecolor\": \"white\"}, \"zaxis\": {\"backgroundcolor\": \"#E5ECF6\", \"gridcolor\": \"white\", \"gridwidth\": 2, \"linecolor\": \"white\", \"showbackground\": true, \"ticks\": \"\", \"zerolinecolor\": \"white\"}}, \"shapedefaults\": {\"line\": {\"color\": \"#2a3f5f\"}}, \"ternary\": {\"aaxis\": {\"gridcolor\": \"white\", \"linecolor\": \"white\", \"ticks\": \"\"}, \"baxis\": {\"gridcolor\": \"white\", \"linecolor\": \"white\", \"ticks\": \"\"}, \"bgcolor\": \"#E5ECF6\", \"caxis\": {\"gridcolor\": \"white\", \"linecolor\": \"white\", \"ticks\": \"\"}}, \"title\": {\"x\": 0.05}, \"xaxis\": {\"automargin\": true, \"gridcolor\": \"white\", \"linecolor\": \"white\", \"ticks\": \"\", \"title\": {\"standoff\": 15}, \"zerolinecolor\": \"white\", \"zerolinewidth\": 2}, \"yaxis\": {\"automargin\": true, \"gridcolor\": \"white\", \"linecolor\": \"white\", \"ticks\": \"\", \"title\": {\"standoff\": 15}, \"zerolinecolor\": \"white\", \"zerolinewidth\": 2}}}, \"xaxis\": {\"anchor\": \"y\", \"domain\": [0.0, 1.0], \"title\": {\"text\": \"x\"}}, \"yaxis\": {\"anchor\": \"x\", \"domain\": [0.0, 1.0], \"title\": {\"text\": \"y\"}}},                        {\"responsive\": true}                    ).then(function(){\n",
       "                            \n",
       "var gd = document.getElementById('2a81e1bd-bc4a-427a-9def-f46cf391bc59');\n",
       "var x = new MutationObserver(function (mutations, observer) {{\n",
       "        var display = window.getComputedStyle(gd).display;\n",
       "        if (!display || display === 'none') {{\n",
       "            console.log([gd, 'removed!']);\n",
       "            Plotly.purge(gd);\n",
       "            observer.disconnect();\n",
       "        }}\n",
       "}});\n",
       "\n",
       "// Listen for the removal of the full notebook cells\n",
       "var notebookContainer = gd.closest('#notebook-container');\n",
       "if (notebookContainer) {{\n",
       "    x.observe(notebookContainer, {childList: true});\n",
       "}}\n",
       "\n",
       "// Listen for the clearing of the current output cell\n",
       "var outputEl = gd.closest('.output');\n",
       "if (outputEl) {{\n",
       "    x.observe(outputEl, {childList: true});\n",
       "}}\n",
       "\n",
       "                        })                };                });            </script>        </div>"
      ]
     },
     "metadata": {},
     "output_type": "display_data"
    }
   ],
   "source": [
    "a = range(3,100)\n",
    "b = [plot_path(x) for x in a]\n",
    "px.scatter(x=a,y=b)\n"
   ]
  },
  {
   "cell_type": "code",
   "execution_count": 14,
   "metadata": {},
   "outputs": [],
   "source": [
    "import algebra as al\n",
    "import networkx as nx"
   ]
  },
  {
   "cell_type": "code",
   "execution_count": 3,
   "metadata": {},
   "outputs": [],
   "source": [
    "def iseven(e):\n",
    "\tif isinstance(e, al.Expression):\n",
    "\t\tfor t in e.terms:\n",
    "\t\t\tc = t.coef\n",
    "\t\t\tif c%2:\n",
    "\t\t\t\treturn False\n",
    "\t\treturn True\n",
    "\telif isinstance(e, al.Term):\n",
    "\t\treturn e.coef%2 == 0"
   ]
  },
  {
   "cell_type": "code",
   "execution_count": 4,
   "metadata": {},
   "outputs": [],
   "source": [
    "def isodd(e):\n",
    "\tif isinstance(e, al.Expression):\n",
    "\t\tfor t in e.terms:\n",
    "\t\t\tif t.args:\n",
    "\t\t\t\tif t.coef%2:\n",
    "\t\t\t\t\treturn False\n",
    "\t\t\t\telse:\n",
    "\t\t\t\t\treturn not iseven(e)\n",
    "\telif isinstance(e, al.Term):\n",
    "\t\treturn False"
   ]
  },
  {
   "cell_type": "code",
   "execution_count": 5,
   "metadata": {},
   "outputs": [
    {
     "name": "stdout",
     "output_type": "stream",
     "text": [
      "False\n",
      "True\n"
     ]
    }
   ],
   "source": [
    "odd = al.Term(2,'k')+al.Term(1)\n",
    "print(iseven(odd))\n",
    "print(isodd(odd))\n"
   ]
  },
  {
   "cell_type": "code",
   "execution_count": 6,
   "metadata": {},
   "outputs": [],
   "source": [
    "def ismult3(e):\n",
    "\tif isinstance(e, al.Expression):\n",
    "\t\tfor t in e.terms:\n",
    "\t\t\tc = t.coef\n",
    "\t\t\tif c%3:\n",
    "\t\t\t\treturn False\n",
    "\t\treturn True\n",
    "\telif isinstance(e, al.Term):\n",
    "\t\treturn e.coef%3 == 0"
   ]
  },
  {
   "cell_type": "code",
   "execution_count": 11,
   "metadata": {},
   "outputs": [
    {
     "name": "stdout",
     "output_type": "stream",
     "text": [
      "10•k + 5\n"
     ]
    }
   ],
   "source": [
    "print(odd*5)"
   ]
  },
  {
   "cell_type": "code",
   "execution_count": 8,
   "metadata": {},
   "outputs": [],
   "source": [
    "def root_to_children(e):\n",
    "\te_m1 = (e - al.Term(1))\n",
    "\tif ismult3(e_m1) and isodd(e_m1):\n",
    "\t\treturn (e_m1/al.Term(3), e*al.Term(2))\n",
    "\treturn (e*al.Term(2),)"
   ]
  },
  {
   "cell_type": "code",
   "execution_count": 9,
   "metadata": {},
   "outputs": [],
   "source": [
    "def to_root(e):\n",
    "\tif iseven(e):\n",
    "\t\treturn e/al.Term(2)\n",
    "\telif isodd(e):\n",
    "\t\treturn al.Term(3) * e + al.Term(1)\n"
   ]
  },
  {
   "cell_type": "code",
   "execution_count": 10,
   "metadata": {},
   "outputs": [
    {
     "name": "stdout",
     "output_type": "stream",
     "text": [
      "(Expression(\"Term(4, 'k', 1)\", 'Term(2,)'),)\n"
     ]
    }
   ],
   "source": [
    "print(root_to_children(odd))\n"
   ]
  },
  {
   "cell_type": "code",
   "execution_count": 163,
   "metadata": {},
   "outputs": [],
   "source": [
    "import networkx as nx"
   ]
  },
  {
   "cell_type": "code",
   "execution_count": 164,
   "metadata": {},
   "outputs": [],
   "source": [
    "def check_from(n):\n",
    "    if n%3 == 1 and (n//3)%2:\n",
    "        return (n//3, n*2)\n",
    "    else:\n",
    "        return (n*2,)"
   ]
  },
  {
   "cell_type": "code",
   "execution_count": null,
   "metadata": {},
   "outputs": [],
   "source": [
    "def to_root_int(n,length):\n",
    "\tl = [n]\n",
    "\tfor i in range(length):\n",
    "\t\tnum = l[-1]\n",
    "\t\tif not num%2:\n",
    "\t\t\tl.append(int(num/2))\n",
    "\t\telse:\n",
    "\t\t\tl.append(num*3+1)\n",
    "\treturn l"
   ]
  },
  {
   "cell_type": "markdown",
   "metadata": {},
   "source": [
    "I noticed that each first non-trivial(odd) split from a root node, mod root node, remains equal"
   ]
  },
  {
   "cell_type": "code",
   "execution_count": 205,
   "metadata": {},
   "outputs": [
    {
     "data": {
      "text/plain": [
       "[21, 64, 32, 16, 8, 4, 2, 1, 4, 2, 1, 4, 2, 1, 4, 2, 1, 4, 2, 1, 4]"
      ]
     },
     "execution_count": 205,
     "metadata": {},
     "output_type": "execute_result"
    }
   ],
   "source": [
    "to_root_int(21,20)"
   ]
  },
  {
   "cell_type": "markdown",
   "metadata": {},
   "source": [
    "In this case, 52 splits into 17 and 104. Each odd split mod 52 = 17mod 52"
   ]
  },
  {
   "cell_type": "code",
   "execution_count": 219,
   "metadata": {},
   "outputs": [
    {
     "name": "stdout",
     "output_type": "stream",
     "text": [
      "i 52 in l 1 in l\n",
      "17 True True\n",
      "69 True True\n",
      "121 False True\n",
      "173 True True\n",
      "225 True True\n",
      "277 True True\n",
      "329 True True\n",
      "381 False True\n",
      "433 False True\n",
      "485 False True\n",
      "537 False True\n",
      "589 False True\n",
      "641 True True\n",
      "693 True True\n",
      "745 True True\n",
      "797 False True\n",
      "849 False True\n",
      "901 True True\n",
      "953 False True\n"
     ]
    }
   ],
   "source": [
    "print('i','52 in l','1 in l')\n",
    "for i in range(17, 1000, 52):\n",
    "\tl = to_root_int(i, 1000)\n",
    "\tprint(i,52 in l, 1 in l)"
   ]
  },
  {
   "cell_type": "markdown",
   "metadata": {},
   "source": [
    "From above I noticed not all 17 mod 52 come from 52. 121 = 17mod 52, but does not come from 52. The below shows me that 121 comes from some other branch, through 53, to 16"
   ]
  },
  {
   "cell_type": "code",
   "execution_count": 216,
   "metadata": {},
   "outputs": [
    {
     "name": "stdout",
     "output_type": "stream",
     "text": [
      "[121, 364, 182, 91, 274, 137, 412, 206, 103, 310, 155, 466, 233, 700, 350, 175, 526, 263, 790, 395, 1186, 593, 1780, 890, 445, 1336, 668, 334, 167, 502, 251, 754, 377, 1132, 566, 283, 850, 425, 1276, 638, 319, 958, 479, 1438, 719, 2158, 1079, 3238, 1619, 4858, 2429, 7288, 3644, 1822, 911, 2734, 1367, 4102, 2051, 6154, 3077, 9232, 4616, 2308, 1154, 577, 1732, 866, 433, 1300, 650, 325, 976, 488, 244, 122, 61, 184, 92, 46, 23, 70, 35, 106, 53, 160, 80, 40, 20, 10, 5, 16, 8, 4, 2, 1, 4, 2, 1, 4, 2]\n"
     ]
    }
   ],
   "source": [
    "j=50\n",
    "ll = to_root_int(381, j)\n",
    "while 52 not in ll:\n",
    "\tj += 10\n",
    "\tll = to_root_int(121, j)\n",
    "\tif 1 in ll: break\n",
    "print(ll)\n"
   ]
  },
  {
   "cell_type": "markdown",
   "metadata": {},
   "source": [
    "So essentially: if a number n is a first odd split from some root r, (each first odd split from r) % r  = n%r.\n",
    "The converse is not true, ie, given a first odd split n from r, not all integers which are equal to n%r will come from r."
   ]
  },
  {
   "cell_type": "code",
   "execution_count": 210,
   "metadata": {},
   "outputs": [
    {
     "data": {
      "text/plain": [
       "17"
      ]
     },
     "execution_count": 210,
     "metadata": {},
     "output_type": "execute_result"
    }
   ],
   "source": [
    "121%52"
   ]
  },
  {
   "cell_type": "code",
   "execution_count": 185,
   "metadata": {},
   "outputs": [],
   "source": [
    "def rep_val(k):\n",
    "\treturn k"
   ]
  },
  {
   "cell_type": "code",
   "execution_count": 186,
   "metadata": {},
   "outputs": [],
   "source": [
    "l = [1]\n",
    "d2 = {1:[2]}\n",
    "for k in l:\n",
    "\trep_k = rep_val(k)\n",
    "\tfor val in d2[rep_k]:\n",
    "\t\tif not (rep_val(val) in d2):\n",
    "\t\t\td2[rep_val(val)] = check_from(val)\n",
    "\t\t\tl.append(val)\n",
    "\tif len(d2) >= 100: break\n",
    "for k in d2:\n",
    "\td2[k] = [rep_val(num) for num in d2[k]]\n",
    "\n",
    "\n",
    "dG = nx.DiGraph(d2)\n",
    "nx.set_node_attributes(dG, 0, 'connections')\n"
   ]
  },
  {
   "cell_type": "code",
   "execution_count": 187,
   "metadata": {},
   "outputs": [
    {
     "data": {
      "text/plain": [
       "{1: [2],\n",
       " 2: [4],\n",
       " 4: [1, 8],\n",
       " 8: [16],\n",
       " 16: [5, 32],\n",
       " 5: [10],\n",
       " 32: [64],\n",
       " 10: [3, 20],\n",
       " 64: [21, 128],\n",
       " 3: [6],\n",
       " 20: [40],\n",
       " 21: [42],\n",
       " 128: [256],\n",
       " 6: [12],\n",
       " 40: [13, 80],\n",
       " 42: [84],\n",
       " 256: [85, 512],\n",
       " 12: [24],\n",
       " 13: [26],\n",
       " 80: [160],\n",
       " 84: [168],\n",
       " 85: [170],\n",
       " 512: [1024],\n",
       " 24: [48],\n",
       " 26: [52],\n",
       " 160: [53, 320],\n",
       " 168: [336],\n",
       " 170: [340],\n",
       " 1024: [341, 2048],\n",
       " 48: [96],\n",
       " 52: [17, 104],\n",
       " 53: [106],\n",
       " 320: [640],\n",
       " 336: [672],\n",
       " 340: [113, 680],\n",
       " 341: [682],\n",
       " 2048: [4096],\n",
       " 96: [192],\n",
       " 17: [34],\n",
       " 104: [208],\n",
       " 106: [35, 212],\n",
       " 640: [213, 1280],\n",
       " 672: [1344],\n",
       " 113: [226],\n",
       " 680: [1360],\n",
       " 682: [227, 1364],\n",
       " 4096: [1365, 8192],\n",
       " 192: [384],\n",
       " 34: [11, 68],\n",
       " 208: [69, 416],\n",
       " 35: [70],\n",
       " 212: [424],\n",
       " 213: [426],\n",
       " 1280: [2560],\n",
       " 1344: [2688],\n",
       " 226: [75, 452],\n",
       " 1360: [453, 2720],\n",
       " 227: [454],\n",
       " 1364: [2728],\n",
       " 1365: [2730],\n",
       " 8192: [16384],\n",
       " 384: [768],\n",
       " 11: [22],\n",
       " 68: [136],\n",
       " 69: [138],\n",
       " 416: [832],\n",
       " 70: [23, 140],\n",
       " 424: [141, 848],\n",
       " 426: [852],\n",
       " 2560: [853, 5120],\n",
       " 2688: [5376],\n",
       " 75: [150],\n",
       " 452: [904],\n",
       " 453: [906],\n",
       " 2720: [5440],\n",
       " 454: [151, 908],\n",
       " 2728: [909, 5456],\n",
       " 2730: [5460],\n",
       " 16384: [5461, 32768],\n",
       " 768: [1536],\n",
       " 22: [7, 44],\n",
       " 136: [45, 272],\n",
       " 138: [276],\n",
       " 832: [277, 1664],\n",
       " 23: [46],\n",
       " 140: [280],\n",
       " 141: [282],\n",
       " 848: [1696],\n",
       " 852: [1704],\n",
       " 853: [1706],\n",
       " 5120: [10240],\n",
       " 5376: [10752],\n",
       " 150: [300],\n",
       " 904: [301, 1808],\n",
       " 906: [1812],\n",
       " 5440: [1813, 10880],\n",
       " 151: [302],\n",
       " 908: [1816],\n",
       " 909: [1818],\n",
       " 5456: [10912]}"
      ]
     },
     "execution_count": 187,
     "metadata": {},
     "output_type": "execute_result"
    }
   ],
   "source": [
    "d2"
   ]
  },
  {
   "cell_type": "code",
   "execution_count": 169,
   "metadata": {},
   "outputs": [],
   "source": [
    "pic = nx.drawing.nx_pydot.to_pydot(dG)\n",
    "pic.write_png('tree2.png')"
   ]
  },
  {
   "cell_type": "code",
   "execution_count": 181,
   "metadata": {},
   "outputs": [],
   "source": [
    "odd = al.Term(2,'k') + al.Term(1)"
   ]
  },
  {
   "cell_type": "code",
   "execution_count": 182,
   "metadata": {},
   "outputs": [],
   "source": [
    "def make_graph_to_children(odd):\n",
    "\tl3 = [str(odd)]\n",
    "\td3 = {str(odd):root_to_children(odd)}\n",
    "\tfor k in l3:\n",
    "\t\tfor val in d3[k]:\n",
    "\t\t\ts_val = str(val)\n",
    "\t\t\tif not (s_val in d3):\n",
    "\t\t\t\td3[s_val] = root_to_children(val)\n",
    "\t\t\t\tl3.append(s_val)\n",
    "\t\tif len(d3) >= 100: break\n",
    "\td4 = {}\n",
    "\tfor k in d3:\n",
    "\t\td4[k] = tuple(str(x) for x in d3[k])\n",
    "\treturn d4\n",
    "d4 = make_graph_to_children(odd)\n",
    "dG2 = nx.DiGraph(d4)"
   ]
  },
  {
   "cell_type": "code",
   "execution_count": 183,
   "metadata": {},
   "outputs": [
    {
     "data": {
      "text/plain": [
       "{'2•k + 1': ('4•k + 2',),\n",
       " '4•k + 2': ('8•k + 4',),\n",
       " '8•k + 4': ('16•k + 8',),\n",
       " '16•k + 8': ('32•k + 16',),\n",
       " '32•k + 16': ('64•k + 32',),\n",
       " '64•k + 32': ('128•k + 64',),\n",
       " '128•k + 64': ('256•k + 128',),\n",
       " '256•k + 128': ('512•k + 256',),\n",
       " '512•k + 256': ('1024•k + 512',),\n",
       " '1024•k + 512': ('2048•k + 1024',),\n",
       " '2048•k + 1024': ('4096•k + 2048',),\n",
       " '4096•k + 2048': ('8192•k + 4096',),\n",
       " '8192•k + 4096': ('16384•k + 8192',),\n",
       " '16384•k + 8192': ('32768•k + 16384',),\n",
       " '32768•k + 16384': ('65536•k + 32768',),\n",
       " '65536•k + 32768': ('131072•k + 65536',),\n",
       " '131072•k + 65536': ('262144•k + 131072',),\n",
       " '262144•k + 131072': ('524288•k + 262144',),\n",
       " '524288•k + 262144': ('1048576•k + 524288',),\n",
       " '1048576•k + 524288': ('2097152•k + 1048576',),\n",
       " '2097152•k + 1048576': ('4194304•k + 2097152',),\n",
       " '4194304•k + 2097152': ('8388608•k + 4194304',),\n",
       " '8388608•k + 4194304': ('16777216•k + 8388608',),\n",
       " '16777216•k + 8388608': ('33554432•k + 16777216',),\n",
       " '33554432•k + 16777216': ('67108864•k + 33554432',),\n",
       " '67108864•k + 33554432': ('134217728•k + 67108864',),\n",
       " '134217728•k + 67108864': ('268435456•k + 134217728',),\n",
       " '268435456•k + 134217728': ('536870912•k + 268435456',),\n",
       " '536870912•k + 268435456': ('1073741824•k + 536870912',),\n",
       " '1073741824•k + 536870912': ('2147483648•k + 1073741824',),\n",
       " '2147483648•k + 1073741824': ('4294967296•k + 2147483648',),\n",
       " '4294967296•k + 2147483648': ('8589934592•k + 4294967296',),\n",
       " '8589934592•k + 4294967296': ('17179869184•k + 8589934592',),\n",
       " '17179869184•k + 8589934592': ('34359738368•k + 17179869184',),\n",
       " '34359738368•k + 17179869184': ('68719476736•k + 34359738368',),\n",
       " '68719476736•k + 34359738368': ('137438953472•k + 68719476736',),\n",
       " '137438953472•k + 68719476736': ('274877906944•k + 137438953472',),\n",
       " '274877906944•k + 137438953472': ('549755813888•k + 274877906944',),\n",
       " '549755813888•k + 274877906944': ('1099511627776•k + 549755813888',),\n",
       " '1099511627776•k + 549755813888': ('2199023255552•k + 1099511627776',),\n",
       " '2199023255552•k + 1099511627776': ('4398046511104•k + 2199023255552',),\n",
       " '4398046511104•k + 2199023255552': ('8796093022208•k + 4398046511104',),\n",
       " '8796093022208•k + 4398046511104': ('17592186044416•k + 8796093022208',),\n",
       " '17592186044416•k + 8796093022208': ('35184372088832•k + 17592186044416',),\n",
       " '35184372088832•k + 17592186044416': ('70368744177664•k + 35184372088832',),\n",
       " '70368744177664•k + 35184372088832': ('140737488355328•k + 70368744177664',),\n",
       " '140737488355328•k + 70368744177664': ('281474976710656•k + 140737488355328',),\n",
       " '281474976710656•k + 140737488355328': ('562949953421312•k + 281474976710656',),\n",
       " '562949953421312•k + 281474976710656': ('1125899906842624•k + 562949953421312',),\n",
       " '1125899906842624•k + 562949953421312': ('2251799813685248•k + 1125899906842624',),\n",
       " '2251799813685248•k + 1125899906842624': ('4503599627370496•k + 2251799813685248',),\n",
       " '4503599627370496•k + 2251799813685248': ('9007199254740992•k + 4503599627370496',),\n",
       " '9007199254740992•k + 4503599627370496': ('18014398509481984•k + 9007199254740992',),\n",
       " '18014398509481984•k + 9007199254740992': ('36028797018963968•k + 18014398509481984',),\n",
       " '36028797018963968•k + 18014398509481984': ('72057594037927936•k + 36028797018963968',),\n",
       " '72057594037927936•k + 36028797018963968': ('144115188075855872•k + 72057594037927936',),\n",
       " '144115188075855872•k + 72057594037927936': ('288230376151711744•k + 144115188075855872',),\n",
       " '288230376151711744•k + 144115188075855872': ('576460752303423488•k + 288230376151711744',),\n",
       " '576460752303423488•k + 288230376151711744': ('1152921504606846976•k + 576460752303423488',),\n",
       " '1152921504606846976•k + 576460752303423488': ('2305843009213693952•k + 1152921504606846976',),\n",
       " '2305843009213693952•k + 1152921504606846976': ('4611686018427387904•k + 2305843009213693952',),\n",
       " '4611686018427387904•k + 2305843009213693952': ('9223372036854775808•k + 4611686018427387904',),\n",
       " '9223372036854775808•k + 4611686018427387904': ('18446744073709551616•k + 9223372036854775808',),\n",
       " '18446744073709551616•k + 9223372036854775808': ('36893488147419103232•k + 18446744073709551616',),\n",
       " '36893488147419103232•k + 18446744073709551616': ('73786976294838206464•k + 36893488147419103232',),\n",
       " '73786976294838206464•k + 36893488147419103232': ('147573952589676412928•k + 73786976294838206464',),\n",
       " '147573952589676412928•k + 73786976294838206464': ('295147905179352825856•k + 147573952589676412928',),\n",
       " '295147905179352825856•k + 147573952589676412928': ('590295810358705651712•k + 295147905179352825856',),\n",
       " '590295810358705651712•k + 295147905179352825856': ('1180591620717411303424•k + 590295810358705651712',),\n",
       " '1180591620717411303424•k + 590295810358705651712': ('2361183241434822606848•k + 1180591620717411303424',),\n",
       " '2361183241434822606848•k + 1180591620717411303424': ('4722366482869645213696•k + 2361183241434822606848',),\n",
       " '4722366482869645213696•k + 2361183241434822606848': ('9444732965739290427392•k + 4722366482869645213696',),\n",
       " '9444732965739290427392•k + 4722366482869645213696': ('18889465931478580854784•k + 9444732965739290427392',),\n",
       " '18889465931478580854784•k + 9444732965739290427392': ('37778931862957161709568•k + 18889465931478580854784',),\n",
       " '37778931862957161709568•k + 18889465931478580854784': ('75557863725914323419136•k + 37778931862957161709568',),\n",
       " '75557863725914323419136•k + 37778931862957161709568': ('151115727451828646838272•k + 75557863725914323419136',),\n",
       " '151115727451828646838272•k + 75557863725914323419136': ('302231454903657293676544•k + 151115727451828646838272',),\n",
       " '302231454903657293676544•k + 151115727451828646838272': ('604462909807314587353088•k + 302231454903657293676544',),\n",
       " '604462909807314587353088•k + 302231454903657293676544': ('1208925819614629174706176•k + 604462909807314587353088',),\n",
       " '1208925819614629174706176•k + 604462909807314587353088': ('2417851639229258349412352•k + 1208925819614629174706176',),\n",
       " '2417851639229258349412352•k + 1208925819614629174706176': ('4835703278458516698824704•k + 2417851639229258349412352',),\n",
       " '4835703278458516698824704•k + 2417851639229258349412352': ('9671406556917033397649408•k + 4835703278458516698824704',),\n",
       " '9671406556917033397649408•k + 4835703278458516698824704': ('19342813113834066795298816•k + 9671406556917033397649408',),\n",
       " '19342813113834066795298816•k + 9671406556917033397649408': ('38685626227668133590597632•k + 19342813113834066795298816',),\n",
       " '38685626227668133590597632•k + 19342813113834066795298816': ('77371252455336267181195264•k + 38685626227668133590597632',),\n",
       " '77371252455336267181195264•k + 38685626227668133590597632': ('154742504910672534362390528•k + 77371252455336267181195264',),\n",
       " '154742504910672534362390528•k + 77371252455336267181195264': ('309485009821345068724781056•k + 154742504910672534362390528',),\n",
       " '309485009821345068724781056•k + 154742504910672534362390528': ('618970019642690137449562112•k + 309485009821345068724781056',),\n",
       " '618970019642690137449562112•k + 309485009821345068724781056': ('1237940039285380274899124224•k + 618970019642690137449562112',),\n",
       " '1237940039285380274899124224•k + 618970019642690137449562112': ('2475880078570760549798248448•k + 1237940039285380274899124224',),\n",
       " '2475880078570760549798248448•k + 1237940039285380274899124224': ('4951760157141521099596496896•k + 2475880078570760549798248448',),\n",
       " '4951760157141521099596496896•k + 2475880078570760549798248448': ('9903520314283042199192993792•k + 4951760157141521099596496896',),\n",
       " '9903520314283042199192993792•k + 4951760157141521099596496896': ('19807040628566084398385987584•k + 9903520314283042199192993792',),\n",
       " '19807040628566084398385987584•k + 9903520314283042199192993792': ('39614081257132168796771975168•k + 19807040628566084398385987584',),\n",
       " '39614081257132168796771975168•k + 19807040628566084398385987584': ('79228162514264337593543950336•k + 39614081257132168796771975168',),\n",
       " '79228162514264337593543950336•k + 39614081257132168796771975168': ('158456325028528675187087900672•k + 79228162514264337593543950336',),\n",
       " '158456325028528675187087900672•k + 79228162514264337593543950336': ('316912650057057350374175801344•k + 158456325028528675187087900672',),\n",
       " '316912650057057350374175801344•k + 158456325028528675187087900672': ('633825300114114700748351602688•k + 316912650057057350374175801344',),\n",
       " '633825300114114700748351602688•k + 316912650057057350374175801344': ('1267650600228229401496703205376•k + 633825300114114700748351602688',),\n",
       " '1267650600228229401496703205376•k + 633825300114114700748351602688': ('2535301200456458802993406410752•k + 1267650600228229401496703205376',)}"
      ]
     },
     "execution_count": 183,
     "metadata": {},
     "output_type": "execute_result"
    }
   ],
   "source": [
    "d4"
   ]
  },
  {
   "cell_type": "code",
   "execution_count": 184,
   "metadata": {},
   "outputs": [
    {
     "name": "stdout",
     "output_type": "stream",
     "text": [
      "2•k + 1 6•k + 4 3.0•k + 2.0\n"
     ]
    }
   ],
   "source": [
    "def make_chain_to_root(odd):\n",
    "\tl5 = [odd]\n",
    "\tfor x in range(11):\n",
    "\t\tv = to_root(l5[-1])\n",
    "\t\tif v:\n",
    "\t\t\tl5.append(v)\n",
    "\t\telse: break\n",
    "\treturn l5\n",
    "l5 = make_chain_to_root(odd)\n",
    "print(*l5)"
   ]
  },
  {
   "cell_type": "code",
   "execution_count": 189,
   "metadata": {},
   "outputs": [
    {
     "data": {
      "text/plain": [
       "{'2•k + 1': ('4•k + 2',),\n",
       " '4•k + 2': ('8•k + 4',),\n",
       " '8•k + 4': ('16•k + 8',),\n",
       " '16•k + 8': ('32•k + 16',),\n",
       " '32•k + 16': ('64•k + 32',),\n",
       " '64•k + 32': ('128•k + 64',),\n",
       " '128•k + 64': ('256•k + 128',),\n",
       " '256•k + 128': ('512•k + 256',),\n",
       " '512•k + 256': ('1024•k + 512',),\n",
       " '1024•k + 512': ('2048•k + 1024',),\n",
       " '2048•k + 1024': ('4096•k + 2048',),\n",
       " '4096•k + 2048': ('8192•k + 4096',),\n",
       " '8192•k + 4096': ('16384•k + 8192',),\n",
       " '16384•k + 8192': ('32768•k + 16384',),\n",
       " '32768•k + 16384': ('65536•k + 32768',),\n",
       " '65536•k + 32768': ('131072•k + 65536',),\n",
       " '131072•k + 65536': ('262144•k + 131072',),\n",
       " '262144•k + 131072': ('524288•k + 262144',),\n",
       " '524288•k + 262144': ('1048576•k + 524288',),\n",
       " '1048576•k + 524288': ('2097152•k + 1048576',),\n",
       " '2097152•k + 1048576': ('4194304•k + 2097152',),\n",
       " '4194304•k + 2097152': ('8388608•k + 4194304',),\n",
       " '8388608•k + 4194304': ('16777216•k + 8388608',),\n",
       " '16777216•k + 8388608': ('33554432•k + 16777216',),\n",
       " '33554432•k + 16777216': ('67108864•k + 33554432',),\n",
       " '67108864•k + 33554432': ('134217728•k + 67108864',),\n",
       " '134217728•k + 67108864': ('268435456•k + 134217728',),\n",
       " '268435456•k + 134217728': ('536870912•k + 268435456',),\n",
       " '536870912•k + 268435456': ('1073741824•k + 536870912',),\n",
       " '1073741824•k + 536870912': ('2147483648•k + 1073741824',),\n",
       " '2147483648•k + 1073741824': ('4294967296•k + 2147483648',),\n",
       " '4294967296•k + 2147483648': ('8589934592•k + 4294967296',),\n",
       " '8589934592•k + 4294967296': ('17179869184•k + 8589934592',),\n",
       " '17179869184•k + 8589934592': ('34359738368•k + 17179869184',),\n",
       " '34359738368•k + 17179869184': ('68719476736•k + 34359738368',),\n",
       " '68719476736•k + 34359738368': ('137438953472•k + 68719476736',),\n",
       " '137438953472•k + 68719476736': ('274877906944•k + 137438953472',),\n",
       " '274877906944•k + 137438953472': ('549755813888•k + 274877906944',),\n",
       " '549755813888•k + 274877906944': ('1099511627776•k + 549755813888',),\n",
       " '1099511627776•k + 549755813888': ('2199023255552•k + 1099511627776',),\n",
       " '2199023255552•k + 1099511627776': ('4398046511104•k + 2199023255552',),\n",
       " '4398046511104•k + 2199023255552': ('8796093022208•k + 4398046511104',),\n",
       " '8796093022208•k + 4398046511104': ('17592186044416•k + 8796093022208',),\n",
       " '17592186044416•k + 8796093022208': ('35184372088832•k + 17592186044416',),\n",
       " '35184372088832•k + 17592186044416': ('70368744177664•k + 35184372088832',),\n",
       " '70368744177664•k + 35184372088832': ('140737488355328•k + 70368744177664',),\n",
       " '140737488355328•k + 70368744177664': ('281474976710656•k + 140737488355328',),\n",
       " '281474976710656•k + 140737488355328': ('562949953421312•k + 281474976710656',),\n",
       " '562949953421312•k + 281474976710656': ('1125899906842624•k + 562949953421312',),\n",
       " '1125899906842624•k + 562949953421312': ('2251799813685248•k + 1125899906842624',),\n",
       " '2251799813685248•k + 1125899906842624': ('4503599627370496•k + 2251799813685248',),\n",
       " '4503599627370496•k + 2251799813685248': ('9007199254740992•k + 4503599627370496',),\n",
       " '9007199254740992•k + 4503599627370496': ('18014398509481984•k + 9007199254740992',),\n",
       " '18014398509481984•k + 9007199254740992': ('36028797018963968•k + 18014398509481984',),\n",
       " '36028797018963968•k + 18014398509481984': ('72057594037927936•k + 36028797018963968',),\n",
       " '72057594037927936•k + 36028797018963968': ('144115188075855872•k + 72057594037927936',),\n",
       " '144115188075855872•k + 72057594037927936': ('288230376151711744•k + 144115188075855872',),\n",
       " '288230376151711744•k + 144115188075855872': ('576460752303423488•k + 288230376151711744',),\n",
       " '576460752303423488•k + 288230376151711744': ('1152921504606846976•k + 576460752303423488',),\n",
       " '1152921504606846976•k + 576460752303423488': ('2305843009213693952•k + 1152921504606846976',),\n",
       " '2305843009213693952•k + 1152921504606846976': ('4611686018427387904•k + 2305843009213693952',),\n",
       " '4611686018427387904•k + 2305843009213693952': ('9223372036854775808•k + 4611686018427387904',),\n",
       " '9223372036854775808•k + 4611686018427387904': ('18446744073709551616•k + 9223372036854775808',),\n",
       " '18446744073709551616•k + 9223372036854775808': ('36893488147419103232•k + 18446744073709551616',),\n",
       " '36893488147419103232•k + 18446744073709551616': ('73786976294838206464•k + 36893488147419103232',),\n",
       " '73786976294838206464•k + 36893488147419103232': ('147573952589676412928•k + 73786976294838206464',),\n",
       " '147573952589676412928•k + 73786976294838206464': ('295147905179352825856•k + 147573952589676412928',),\n",
       " '295147905179352825856•k + 147573952589676412928': ('590295810358705651712•k + 295147905179352825856',),\n",
       " '590295810358705651712•k + 295147905179352825856': ('1180591620717411303424•k + 590295810358705651712',),\n",
       " '1180591620717411303424•k + 590295810358705651712': ('2361183241434822606848•k + 1180591620717411303424',),\n",
       " '2361183241434822606848•k + 1180591620717411303424': ('4722366482869645213696•k + 2361183241434822606848',),\n",
       " '4722366482869645213696•k + 2361183241434822606848': ('9444732965739290427392•k + 4722366482869645213696',),\n",
       " '9444732965739290427392•k + 4722366482869645213696': ('18889465931478580854784•k + 9444732965739290427392',),\n",
       " '18889465931478580854784•k + 9444732965739290427392': ('37778931862957161709568•k + 18889465931478580854784',),\n",
       " '37778931862957161709568•k + 18889465931478580854784': ('75557863725914323419136•k + 37778931862957161709568',),\n",
       " '75557863725914323419136•k + 37778931862957161709568': ('151115727451828646838272•k + 75557863725914323419136',),\n",
       " '151115727451828646838272•k + 75557863725914323419136': ('302231454903657293676544•k + 151115727451828646838272',),\n",
       " '302231454903657293676544•k + 151115727451828646838272': ('604462909807314587353088•k + 302231454903657293676544',),\n",
       " '604462909807314587353088•k + 302231454903657293676544': ('1208925819614629174706176•k + 604462909807314587353088',),\n",
       " '1208925819614629174706176•k + 604462909807314587353088': ('2417851639229258349412352•k + 1208925819614629174706176',),\n",
       " '2417851639229258349412352•k + 1208925819614629174706176': ('4835703278458516698824704•k + 2417851639229258349412352',),\n",
       " '4835703278458516698824704•k + 2417851639229258349412352': ('9671406556917033397649408•k + 4835703278458516698824704',),\n",
       " '9671406556917033397649408•k + 4835703278458516698824704': ('19342813113834066795298816•k + 9671406556917033397649408',),\n",
       " '19342813113834066795298816•k + 9671406556917033397649408': ('38685626227668133590597632•k + 19342813113834066795298816',),\n",
       " '38685626227668133590597632•k + 19342813113834066795298816': ('77371252455336267181195264•k + 38685626227668133590597632',),\n",
       " '77371252455336267181195264•k + 38685626227668133590597632': ('154742504910672534362390528•k + 77371252455336267181195264',),\n",
       " '154742504910672534362390528•k + 77371252455336267181195264': ('309485009821345068724781056•k + 154742504910672534362390528',),\n",
       " '309485009821345068724781056•k + 154742504910672534362390528': ('618970019642690137449562112•k + 309485009821345068724781056',),\n",
       " '618970019642690137449562112•k + 309485009821345068724781056': ('1237940039285380274899124224•k + 618970019642690137449562112',),\n",
       " '1237940039285380274899124224•k + 618970019642690137449562112': ('2475880078570760549798248448•k + 1237940039285380274899124224',),\n",
       " '2475880078570760549798248448•k + 1237940039285380274899124224': ('4951760157141521099596496896•k + 2475880078570760549798248448',),\n",
       " '4951760157141521099596496896•k + 2475880078570760549798248448': ('9903520314283042199192993792•k + 4951760157141521099596496896',),\n",
       " '9903520314283042199192993792•k + 4951760157141521099596496896': ('19807040628566084398385987584•k + 9903520314283042199192993792',),\n",
       " '19807040628566084398385987584•k + 9903520314283042199192993792': ('39614081257132168796771975168•k + 19807040628566084398385987584',),\n",
       " '39614081257132168796771975168•k + 19807040628566084398385987584': ('79228162514264337593543950336•k + 39614081257132168796771975168',),\n",
       " '79228162514264337593543950336•k + 39614081257132168796771975168': ('158456325028528675187087900672•k + 79228162514264337593543950336',),\n",
       " '158456325028528675187087900672•k + 79228162514264337593543950336': ('316912650057057350374175801344•k + 158456325028528675187087900672',),\n",
       " '316912650057057350374175801344•k + 158456325028528675187087900672': ('633825300114114700748351602688•k + 316912650057057350374175801344',),\n",
       " '633825300114114700748351602688•k + 316912650057057350374175801344': ('1267650600228229401496703205376•k + 633825300114114700748351602688',),\n",
       " '1267650600228229401496703205376•k + 633825300114114700748351602688': ('2535301200456458802993406410752•k + 1267650600228229401496703205376',)}"
      ]
     },
     "execution_count": 189,
     "metadata": {},
     "output_type": "execute_result"
    }
   ],
   "source": [
    "d5 = make_graph_to_children(al.Term(2,'k')+al.Term(1))\n",
    "d5"
   ]
  },
  {
   "cell_type": "code",
   "execution_count": null,
   "metadata": {},
   "outputs": [],
   "source": []
  },
  {
   "cell_type": "code",
   "execution_count": 59,
   "metadata": {},
   "outputs": [],
   "source": [
    "def coef_and_const(e):\n",
    "\tfor t in e.terms:\n",
    "\t\tif t.args:\n",
    "\t\t\tcoef = t.coef\n",
    "\t\t\tvar = t.args[0]\n",
    "\t\telse:\n",
    "\t\t\tconst = t.coef\n",
    "\treturn coef, const, var"
   ]
  },
  {
   "cell_type": "code",
   "execution_count": 60,
   "metadata": {},
   "outputs": [],
   "source": [
    "def sim_modular_forms(e,length):\n",
    "\tl = [e]\n",
    "\tfor k in l:\n",
    "\t\tcoef, const, var = coef_and_const(k)\n",
    "\t\te1,e2 = al.Term(coef*2,var) + al.Term(const), al.Term(coef*2,var) + al.Term(const+coef)\n",
    "\t\tif len(l) >= length: break\n",
    "\t\tif e1 not in l:\n",
    "\t\t\tl.extend([e1,e2])\n",
    "\treturn l"
   ]
  },
  {
   "cell_type": "code",
   "execution_count": 97,
   "metadata": {},
   "outputs": [
    {
     "name": "stdout",
     "output_type": "stream",
     "text": [
      "4•k + 3\n",
      "8•k + 3\n",
      "8•k + 7\n",
      "16•k + 3\n",
      "16•k + 11\n",
      "16•k + 7\n",
      "16•k + 15\n",
      "32•k + 3\n",
      "32•k + 19\n",
      "32•k + 11\n",
      "32•k + 27\n",
      "32•k + 7\n",
      "32•k + 23\n",
      "32•k + 15\n",
      "32•k + 31\n",
      "64•k + 3\n",
      "64•k + 35\n",
      "64•k + 19\n",
      "64•k + 51\n",
      "64•k + 11\n",
      "64•k + 43\n",
      "64•k + 27\n",
      "64•k + 59\n",
      "64•k + 7\n",
      "64•k + 39\n",
      "64•k + 23\n",
      "64•k + 55\n",
      "64•k + 15\n",
      "64•k + 47\n",
      "64•k + 31\n",
      "64•k + 63\n",
      "128•k + 3\n",
      "128•k + 67\n",
      "128•k + 35\n",
      "128•k + 99\n",
      "128•k + 19\n",
      "128•k + 83\n",
      "128•k + 51\n",
      "128•k + 115\n",
      "128•k + 11\n",
      "128•k + 75\n",
      "128•k + 43\n",
      "128•k + 107\n",
      "128•k + 27\n",
      "128•k + 91\n",
      "128•k + 59\n",
      "128•k + 123\n",
      "128•k + 7\n",
      "128•k + 71\n",
      "128•k + 39\n",
      "128•k + 103\n"
     ]
    }
   ],
   "source": [
    "ts = sim_modular_forms(al.Term(4,'k')+al.Term(3),50)\n",
    "for tt in ts: print(tt)"
   ]
  },
  {
   "cell_type": "code",
   "execution_count": 85,
   "metadata": {},
   "outputs": [
    {
     "name": "stdout",
     "output_type": "stream",
     "text": [
      "False\n"
     ]
    }
   ],
   "source": [
    "print(al.Term(1024,'k')+al.Term(341) in ts[150:])"
   ]
  },
  {
   "cell_type": "code",
   "execution_count": 90,
   "metadata": {},
   "outputs": [],
   "source": [
    "def ismult(n, e):\n",
    "\treturn all([not (x.coef%n) for x in e.terms])"
   ]
  },
  {
   "cell_type": "code",
   "execution_count": 96,
   "metadata": {},
   "outputs": [
    {
     "name": "stdout",
     "output_type": "stream",
     "text": [
      "False\n"
     ]
    }
   ],
   "source": [
    "print(\n",
    "ismult(4,(al.Term(16384, 'k') + al.Term(5461)) - al.Term(3))\n",
    ")"
   ]
  },
  {
   "cell_type": "code",
   "execution_count": null,
   "metadata": {},
   "outputs": [],
   "source": []
  }
 ],
 "metadata": {
  "kernelspec": {
   "display_name": "Python 3",
   "language": "python",
   "name": "python3"
  },
  "language_info": {
   "codemirror_mode": {
    "name": "ipython",
    "version": 3
   },
   "file_extension": ".py",
   "mimetype": "text/x-python",
   "name": "python",
   "nbconvert_exporter": "python",
   "pygments_lexer": "ipython3",
   "version": "3.8.3"
  }
 },
 "nbformat": 4,
 "nbformat_minor": 4
}
